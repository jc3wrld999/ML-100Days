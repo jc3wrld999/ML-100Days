{
 "cells": [
  {
   "cell_type": "markdown",
   "id": "817d2dfb",
   "metadata": {},
   "source": [
    "## 첫번째 머신러닝"
   ]
  },
  {
   "cell_type": "code",
   "execution_count": 14,
   "id": "bc28479e",
   "metadata": {},
   "outputs": [],
   "source": [
    "import pandas as pd\n",
    "import numpy as np\n",
    "import matplotlib.pyplot as plt"
   ]
  },
  {
   "cell_type": "code",
   "execution_count": 4,
   "id": "90363b0a",
   "metadata": {},
   "outputs": [
    {
     "data": {
      "text/html": [
       "<div>\n",
       "<style scoped>\n",
       "    .dataframe tbody tr th:only-of-type {\n",
       "        vertical-align: middle;\n",
       "    }\n",
       "\n",
       "    .dataframe tbody tr th {\n",
       "        vertical-align: top;\n",
       "    }\n",
       "\n",
       "    .dataframe thead th {\n",
       "        text-align: right;\n",
       "    }\n",
       "</style>\n",
       "<table border=\"1\" class=\"dataframe\">\n",
       "  <thead>\n",
       "    <tr style=\"text-align: right;\">\n",
       "      <th></th>\n",
       "      <th>Species</th>\n",
       "      <th>Weight</th>\n",
       "      <th>Length1</th>\n",
       "      <th>Length2</th>\n",
       "      <th>Length3</th>\n",
       "      <th>Height</th>\n",
       "      <th>Width</th>\n",
       "    </tr>\n",
       "  </thead>\n",
       "  <tbody>\n",
       "    <tr>\n",
       "      <th>0</th>\n",
       "      <td>Bream</td>\n",
       "      <td>242.0</td>\n",
       "      <td>23.2</td>\n",
       "      <td>25.4</td>\n",
       "      <td>30.0</td>\n",
       "      <td>11.5200</td>\n",
       "      <td>4.0200</td>\n",
       "    </tr>\n",
       "    <tr>\n",
       "      <th>1</th>\n",
       "      <td>Bream</td>\n",
       "      <td>290.0</td>\n",
       "      <td>24.0</td>\n",
       "      <td>26.3</td>\n",
       "      <td>31.2</td>\n",
       "      <td>12.4800</td>\n",
       "      <td>4.3056</td>\n",
       "    </tr>\n",
       "    <tr>\n",
       "      <th>2</th>\n",
       "      <td>Bream</td>\n",
       "      <td>340.0</td>\n",
       "      <td>23.9</td>\n",
       "      <td>26.5</td>\n",
       "      <td>31.1</td>\n",
       "      <td>12.3778</td>\n",
       "      <td>4.6961</td>\n",
       "    </tr>\n",
       "    <tr>\n",
       "      <th>3</th>\n",
       "      <td>Bream</td>\n",
       "      <td>363.0</td>\n",
       "      <td>26.3</td>\n",
       "      <td>29.0</td>\n",
       "      <td>33.5</td>\n",
       "      <td>12.7300</td>\n",
       "      <td>4.4555</td>\n",
       "    </tr>\n",
       "    <tr>\n",
       "      <th>4</th>\n",
       "      <td>Bream</td>\n",
       "      <td>430.0</td>\n",
       "      <td>26.5</td>\n",
       "      <td>29.0</td>\n",
       "      <td>34.0</td>\n",
       "      <td>12.4440</td>\n",
       "      <td>5.1340</td>\n",
       "    </tr>\n",
       "    <tr>\n",
       "      <th>...</th>\n",
       "      <td>...</td>\n",
       "      <td>...</td>\n",
       "      <td>...</td>\n",
       "      <td>...</td>\n",
       "      <td>...</td>\n",
       "      <td>...</td>\n",
       "      <td>...</td>\n",
       "    </tr>\n",
       "    <tr>\n",
       "      <th>154</th>\n",
       "      <td>Smelt</td>\n",
       "      <td>12.2</td>\n",
       "      <td>11.5</td>\n",
       "      <td>12.2</td>\n",
       "      <td>13.4</td>\n",
       "      <td>2.0904</td>\n",
       "      <td>1.3936</td>\n",
       "    </tr>\n",
       "    <tr>\n",
       "      <th>155</th>\n",
       "      <td>Smelt</td>\n",
       "      <td>13.4</td>\n",
       "      <td>11.7</td>\n",
       "      <td>12.4</td>\n",
       "      <td>13.5</td>\n",
       "      <td>2.4300</td>\n",
       "      <td>1.2690</td>\n",
       "    </tr>\n",
       "    <tr>\n",
       "      <th>156</th>\n",
       "      <td>Smelt</td>\n",
       "      <td>12.2</td>\n",
       "      <td>12.1</td>\n",
       "      <td>13.0</td>\n",
       "      <td>13.8</td>\n",
       "      <td>2.2770</td>\n",
       "      <td>1.2558</td>\n",
       "    </tr>\n",
       "    <tr>\n",
       "      <th>157</th>\n",
       "      <td>Smelt</td>\n",
       "      <td>19.7</td>\n",
       "      <td>13.2</td>\n",
       "      <td>14.3</td>\n",
       "      <td>15.2</td>\n",
       "      <td>2.8728</td>\n",
       "      <td>2.0672</td>\n",
       "    </tr>\n",
       "    <tr>\n",
       "      <th>158</th>\n",
       "      <td>Smelt</td>\n",
       "      <td>19.9</td>\n",
       "      <td>13.8</td>\n",
       "      <td>15.0</td>\n",
       "      <td>16.2</td>\n",
       "      <td>2.9322</td>\n",
       "      <td>1.8792</td>\n",
       "    </tr>\n",
       "  </tbody>\n",
       "</table>\n",
       "<p>159 rows × 7 columns</p>\n",
       "</div>"
      ],
      "text/plain": [
       "    Species  Weight  Length1  Length2  Length3   Height   Width\n",
       "0     Bream   242.0     23.2     25.4     30.0  11.5200  4.0200\n",
       "1     Bream   290.0     24.0     26.3     31.2  12.4800  4.3056\n",
       "2     Bream   340.0     23.9     26.5     31.1  12.3778  4.6961\n",
       "3     Bream   363.0     26.3     29.0     33.5  12.7300  4.4555\n",
       "4     Bream   430.0     26.5     29.0     34.0  12.4440  5.1340\n",
       "..      ...     ...      ...      ...      ...      ...     ...\n",
       "154   Smelt    12.2     11.5     12.2     13.4   2.0904  1.3936\n",
       "155   Smelt    13.4     11.7     12.4     13.5   2.4300  1.2690\n",
       "156   Smelt    12.2     12.1     13.0     13.8   2.2770  1.2558\n",
       "157   Smelt    19.7     13.2     14.3     15.2   2.8728  2.0672\n",
       "158   Smelt    19.9     13.8     15.0     16.2   2.9322  1.8792\n",
       "\n",
       "[159 rows x 7 columns]"
      ]
     },
     "execution_count": 4,
     "metadata": {},
     "output_type": "execute_result"
    }
   ],
   "source": [
    "fish_data = pd.read_csv('Fish.csv')\n",
    "fish_data"
   ]
  },
  {
   "cell_type": "markdown",
   "id": "088818e9",
   "metadata": {},
   "source": [
    "### 데이터 셋 준비하기\n",
    "- 리스트에서 첫번째 도미의 길이는 25.4cm이고 무게는 242g이다. 각 도미의 특징을 길이와 무게로 표현한 것이다. 이런 특징을 feature라고 부른다."
   ]
  },
  {
   "cell_type": "code",
   "execution_count": 31,
   "id": "b68fbc1e",
   "metadata": {},
   "outputs": [
    {
     "name": "stdout",
     "output_type": "stream",
     "text": [
      "[25.4 26.3 26.5 29.  29.  29.7 29.7 30.  30.  30.7 31.  31.  31.5 32.\n",
      " 32.  32.  33.  33.  33.5 33.5 34.  34.  34.5 35.  35.  35.  35.  36.\n",
      " 36.  37.  38.5 38.5 39.5 41.  41. ]\n",
      "[ 242.  290.  340.  363.  430.  450.  500.  390.  450.  500.  475.  500.\n",
      "  500.  340.  600.  600.  700.  700.  610.  650.  575.  685.  620.  680.\n",
      "  700.  725.  720.  714.  850. 1000.  920.  955.  925.  975.  950.]\n",
      "[ 9.8 10.5 10.6 11.  11.2 11.3 11.8 11.8 12.  12.2 12.4 13.  14.3 15. ]\n",
      "[ 6.7  7.5  7.   9.7  9.8  8.7 10.   9.9  9.8 12.2 13.4 12.2 19.7 19.9]\n"
     ]
    }
   ],
   "source": [
    "# 도미 데이터\n",
    "bream_length = fish_data[fish_data['Species'] == 'Bream']['Length2'].values\n",
    "print(bream_length)\n",
    "bream_weight = fish_data[fish_data['Species'] == 'Bream']['Weight'].values\n",
    "print(bream_weight)\n",
    "\n",
    "\n",
    "# 빙어 데이터\n",
    "smelt_length = fish_data[fish_data['Species'] == 'Smelt']['Length2'].values\n",
    "print(smelt_length)\n",
    "smelt_weight = fish_data[fish_data['Species'] == 'Smelt']['Weight'].values\n",
    "print(smelt_weight)"
   ]
  },
  {
   "cell_type": "markdown",
   "id": "ad88bb49",
   "metadata": {},
   "source": [
    "### 데이터 시각화\n",
    "- scatter plot\n",
    "- 길이 : x축 / 무게 : y축\n",
    "- 생선의 길이가 길수록 무게가 많이 나간다고 생각하면 자연스럽다.\n",
    "- 이렇게 그래프가 일직선에 가까운 형태로 나타나는 경우 linear(선형)적이라고 말한다."
   ]
  },
  {
   "cell_type": "code",
   "execution_count": 26,
   "id": "c884293f",
   "metadata": {},
   "outputs": [
    {
     "data": {
      "image/png": "[encoded data removed]",
      "text/plain": [
       "<Figure size 432x288 with 1 Axes>"
      ]
     },
     "metadata": {
      "needs_background": "light"
     },
     "output_type": "display_data"
    },
    {
     "data": {
      "image/png": "[encoded data removed]",
      "text/plain": [
       "<Figure size 432x288 with 1 Axes>"
      ]
     },
     "metadata": {
      "needs_background": "light"
     },
     "output_type": "display_data"
    }
   ],
   "source": [
    "plt.scatter(bream_length, bream_weight)\n",
    "plt.xlabel('length') # x축은 길이\n",
    "plt.ylabel('weight') # y축은 무게\n",
    "plt.show()\n",
    "\n",
    "plt.scatter(smelt_length, smelt_weight)\n",
    "plt.xlabel('length') # x축은 길이\n",
    "plt.ylabel('weight') # y축은 무게\n",
    "plt.show()"
   ]
  },
  {
   "cell_type": "markdown",
   "id": "31f6dbe5",
   "metadata": {},
   "source": [
    "### 첫번째 머신러닝 프로그램\n",
    "- 도미와 빙어 데이터를 하나의 데이터로 합침\n",
    "- 데이터를 2차원 리스트로 만듬 \n",
    "    - 이때 하나의 생선 데이터를 sample이라고 부름 49개의 샘플이 있음\n",
    "    - 사용하는 feature는 길이와 무게 2개\n",
    "- 정답(label/target) 값을 생성\n",
    "- k-최근접 이웃 알고리즘 사용\n",
    "    - 어떤 데이터에 대한 답을 구할 때 주위의 다른 데이터를 보고 다수를 차지하는 것을 정답으로 사용\n",
    "    - n_neightbors 옵션은 가까운 몇개의 데이터를 참고할 지 정함\n",
    "    - 데이터가 아주 많은 경우 사용하기 어렵움(데이터가 크기 때문에 메모리가 많이 필요하고 직선거리를 계산하는 데도 많은 시간이 필요)\n",
    "    - _fit_X 속성에 전달한 데이터를 모두 가지고 있음\n",
    "    - _y 속성에 target 을 가지고 있음\n",
    "- 새 데이터 예측"
   ]
  },
  {
   "cell_type": "code",
   "execution_count": 49,
   "id": "fa6ad1be",
   "metadata": {},
   "outputs": [
    {
     "name": "stdout",
     "output_type": "stream",
     "text": [
      "[[25.4, 242.0], [26.3, 290.0], [26.5, 340.0], [29.0, 363.0], [29.0, 430.0], [29.7, 450.0], [29.7, 500.0], [30.0, 390.0], [30.0, 450.0], [30.7, 500.0], [31.0, 475.0], [31.0, 500.0], [31.5, 500.0], [32.0, 340.0], [32.0, 600.0], [32.0, 600.0], [33.0, 700.0], [33.0, 700.0], [33.5, 610.0], [33.5, 650.0], [34.0, 575.0], [34.0, 685.0], [34.5, 620.0], [35.0, 680.0], [35.0, 700.0], [35.0, 725.0], [35.0, 720.0], [36.0, 714.0], [36.0, 850.0], [37.0, 1000.0], [38.5, 920.0], [38.5, 955.0], [39.5, 925.0], [41.0, 975.0], [41.0, 950.0], [9.8, 6.7], [10.5, 7.5], [10.6, 7.0], [11.0, 9.7], [11.2, 9.8], [11.3, 8.7], [11.8, 10.0], [11.8, 9.9], [12.0, 9.8], [12.2, 12.2], [12.4, 13.4], [13.0, 12.2], [14.3, 19.7], [15.0, 19.9]]\n",
      "[1, 1, 1, 1, 1, 1, 1, 1, 1, 1, 1, 1, 1, 1, 1, 1, 1, 1, 1, 1, 1, 1, 1, 1, 1, 1, 1, 1, 1, 1, 1, 1, 1, 1, 1, 0, 0, 0, 0, 0, 0, 0, 0, 0, 0, 0, 0, 0, 0]\n",
      "1.0\n",
      "[[  25.4  242. ]\n",
      " [  26.3  290. ]\n",
      " [  26.5  340. ]\n",
      " [  29.   363. ]\n",
      " [  29.   430. ]\n",
      " [  29.7  450. ]\n",
      " [  29.7  500. ]\n",
      " [  30.   390. ]\n",
      " [  30.   450. ]\n",
      " [  30.7  500. ]\n",
      " [  31.   475. ]\n",
      " [  31.   500. ]\n",
      " [  31.5  500. ]\n",
      " [  32.   340. ]\n",
      " [  32.   600. ]\n",
      " [  32.   600. ]\n",
      " [  33.   700. ]\n",
      " [  33.   700. ]\n",
      " [  33.5  610. ]\n",
      " [  33.5  650. ]\n",
      " [  34.   575. ]\n",
      " [  34.   685. ]\n",
      " [  34.5  620. ]\n",
      " [  35.   680. ]\n",
      " [  35.   700. ]\n",
      " [  35.   725. ]\n",
      " [  35.   720. ]\n",
      " [  36.   714. ]\n",
      " [  36.   850. ]\n",
      " [  37.  1000. ]\n",
      " [  38.5  920. ]\n",
      " [  38.5  955. ]\n",
      " [  39.5  925. ]\n",
      " [  41.   975. ]\n",
      " [  41.   950. ]\n",
      " [   9.8    6.7]\n",
      " [  10.5    7.5]\n",
      " [  10.6    7. ]\n",
      " [  11.     9.7]\n",
      " [  11.2    9.8]\n",
      " [  11.3    8.7]\n",
      " [  11.8   10. ]\n",
      " [  11.8    9.9]\n",
      " [  12.     9.8]\n",
      " [  12.2   12.2]\n",
      " [  12.4   13.4]\n",
      " [  13.    12.2]\n",
      " [  14.3   19.7]\n",
      " [  15.    19.9]]\n",
      "[1 1 1 1 1 1 1 1 1 1 1 1 1 1 1 1 1 1 1 1 1 1 1 1 1 1 1 1 1 1 1 1 1 1 1 0 0\n",
      " 0 0 0 0 0 0 0 0 0 0 0 0]\n"
     ]
    },
    {
     "data": {
      "text/plain": [
       "0.7142857142857143"
      ]
     },
     "execution_count": 49,
     "metadata": {},
     "output_type": "execute_result"
    }
   ],
   "source": [
    "length = bream_length.tolist() + smelt_length.tolist() # 도미 35개의 길이 리스트와 빙어 14개의 길이 리스트를 합침\n",
    "weight = bream_weight.tolist() + smelt_weight.tolist()\n",
    "\n",
    "# zip 함수는 나열된 리스트 각각에서 하나씩 원소를 꺼내 반환한다.\n",
    "# length, weight 리스트를 2차원 리스트로\n",
    "fish_data = [[l, w] for l, w in zip(length, weight)] \n",
    "print(fish_data)\n",
    "\n",
    "# 정답 데이터\n",
    "# 첫번째 생선은 도미 두번째 생선... 각각 어떤 생선인지 답을 만듬\n",
    "# 머신러닝 알고리즘이 생선의 길이와 무게를 보고 도미와 빙어를 구분하는 규칙을 찾아야함\n",
    "fish_target = [1] * 35 + [0] * 14 # 1: 도미 / 0: 빙어\n",
    "print(fish_target)\n",
    "\n",
    "# k-최근접 이웃 알고리즘\n",
    "from sklearn.neighbors import KNeighborsClassifier\n",
    "# 알고리즘 모델 객체 생성\n",
    "kn = KNeighborsClassifier()\n",
    "\n",
    "# 주어진 데이터로 알고리즘을 훈련\n",
    "kn.fit(fish_data, fish_target)\n",
    "# 정확도\n",
    "print(kn.score(fish_data, fish_target)) # return 1.0 > 이 모델은 정확도가 100%이며 도미와 빙어를 완벽하게 분류\n",
    "# 새로운 데이터의 정답을 예측한다. 이 메서드도 fit() 메서드와 마찬가지로 리스트의 리스트를 전달해야 한다.\n",
    "kn.predict([[30, 600]]) # return 1 > 도미!\n",
    "\n",
    "print(kn._fit_X)\n",
    "print(kn._y)\n"
   ]
  },
  {
   "cell_type": "code",
   "execution_count": 50,
   "id": "2219ec91",
   "metadata": {},
   "outputs": [
    {
     "data": {
      "text/plain": [
       "0.7142857142857143"
      ]
     },
     "execution_count": 50,
     "metadata": {},
     "output_type": "execute_result"
    }
   ],
   "source": [
    "kn49 = KNeighborsClassifier(n_neighbors=49) # 참고 데이터를 49개로 한모델\n",
    "kn49.fit(fish_data, fish_target)\n",
    "kn49.score(fish_data, fish_target) # 0.7142857142857143 > 정확도가 낮아짐"
   ]
  },
  {
   "cell_type": "markdown",
   "id": "e162c382",
   "metadata": {},
   "source": [
    "## 데이터 다루기\n",
    "\n",
    "- 지도학습(supervised learning)\n",
    "    - 데이터와 정답을 입력과 타깃이라 하고 이 둘을 합쳐 훈련 데이터라고 부른다.\n",
    "    - 입력을 사용된 길이와 무게를 feature 라고 한다.\n",
    "    - 정답(타깃)이 있으니 알고리즘이 정답을 맞히는 것을 학습\n",
    "- 비지도학습(unsupervised learning)\n",
    "    - 타깃 없이 입력 데이터만 사용\n",
    "    - 데이터를 잘 파악하거나 변형하는 데 도움\n",
    "- 강화학습(reinforcement learning)\n",
    "    - 타깃이 아니라 알고리즘이 행동한 결과로 얻은 보상을 사용해 학습\n",
    "\n",
    "### 훈련 셋과 테스트 셋\n",
    "- 연습 문제와 시험 문제가 같다면 항상 100%의 정확도가 나올 것이다.\n",
    "- 성능을 제대로 평가하려면 훈련 데이터와 평가 데이터가 달라야한다.\n"
   ]
  },
  {
   "cell_type": "markdown",
   "id": "9ae23c64",
   "metadata": {},
   "source": [
    "### 샘플링 편향\n",
    "- 처음 35개 샘플을 훈련 셋, 나머지 14개의 샘플을 테스트 셋으로 선택해서 훈련시켜보자\n",
    "- 정확도가 0.0이 나온다.\n",
    "- 이는 훈련세트에 빙어 데이터가 하나도 들어 있지 않아서 생김"
   ]
  },
  {
   "cell_type": "code",
   "execution_count": 52,
   "id": "657498cb",
   "metadata": {},
   "outputs": [
    {
     "name": "stdout",
     "output_type": "stream",
     "text": [
      "[29.0, 430.0]\n",
      "[[25.4, 242.0], [26.3, 290.0], [26.5, 340.0], [29.0, 363.0], [29.0, 430.0]]\n"
     ]
    },
    {
     "data": {
      "text/plain": [
       "0.0"
      ]
     },
     "execution_count": 52,
     "metadata": {},
     "output_type": "execute_result"
    }
   ],
   "source": [
    "print(fish_data[4]) # 인덱싱\n",
    "print(fish_data[0:5]) # 슬라이싱\n",
    "\n",
    "# 처음 35개 샘플을 훈련 세트로 선택하고 나머지 14개 샘플을 테스트 셋으로 선택\n",
    "train_input = fish_data[:35]\n",
    "train_target = fish_target[:35]\n",
    "test_input = fish_data[35:]\n",
    "test_target = fish_target[35:]\n",
    "\n",
    "kn.fit(train_input, train_target)\n",
    "kn.score(test_input, test_target) # return 0.0"
   ]
  },
  {
   "cell_type": "markdown",
   "id": "22525479",
   "metadata": {},
   "source": [
    "### Numpy\n",
    "- numpy는 고차원 배열을 핸들링하는 도구를 제공한다.\n",
    "- arange() 함수를 사용하면 0 ~ 48 까지 1씩 증가하는 인덱스를 만들 수 있다.\n",
    "- 그 다음 이 인덱스를 랜덤하게 섞는다."
   ]
  },
  {
   "cell_type": "code",
   "execution_count": 54,
   "id": "5f573e2d",
   "metadata": {},
   "outputs": [
    {
     "name": "stdout",
     "output_type": "stream",
     "text": [
      "[[  25.4  242. ]\n",
      " [  26.3  290. ]\n",
      " [  26.5  340. ]\n",
      " [  29.   363. ]\n",
      " [  29.   430. ]\n",
      " [  29.7  450. ]\n",
      " [  29.7  500. ]\n",
      " [  30.   390. ]\n",
      " [  30.   450. ]\n",
      " [  30.7  500. ]\n",
      " [  31.   475. ]\n",
      " [  31.   500. ]\n",
      " [  31.5  500. ]\n",
      " [  32.   340. ]\n",
      " [  32.   600. ]\n",
      " [  32.   600. ]\n",
      " [  33.   700. ]\n",
      " [  33.   700. ]\n",
      " [  33.5  610. ]\n",
      " [  33.5  650. ]\n",
      " [  34.   575. ]\n",
      " [  34.   685. ]\n",
      " [  34.5  620. ]\n",
      " [  35.   680. ]\n",
      " [  35.   700. ]\n",
      " [  35.   725. ]\n",
      " [  35.   720. ]\n",
      " [  36.   714. ]\n",
      " [  36.   850. ]\n",
      " [  37.  1000. ]\n",
      " [  38.5  920. ]\n",
      " [  38.5  955. ]\n",
      " [  39.5  925. ]\n",
      " [  41.   975. ]\n",
      " [  41.   950. ]\n",
      " [   9.8    6.7]\n",
      " [  10.5    7.5]\n",
      " [  10.6    7. ]\n",
      " [  11.     9.7]\n",
      " [  11.2    9.8]\n",
      " [  11.3    8.7]\n",
      " [  11.8   10. ]\n",
      " [  11.8    9.9]\n",
      " [  12.     9.8]\n",
      " [  12.2   12.2]\n",
      " [  12.4   13.4]\n",
      " [  13.    12.2]\n",
      " [  14.3   19.7]\n",
      " [  15.    19.9]]\n",
      "(49, 2)\n"
     ]
    }
   ],
   "source": [
    "input_arr = np.array(fish_data)\n",
    "target_arr = np.array(fish_target)\n",
    "print(input_arr)\n",
    "print(input_arr.shape)"
   ]
  },
  {
   "cell_type": "code",
   "execution_count": 57,
   "id": "d991d88e",
   "metadata": {},
   "outputs": [
    {
     "name": "stdout",
     "output_type": "stream",
     "text": [
      "[13 45 47 44 17 27 26 25 31 19 12  4 34  8  3  6 40 41 46 15  9 16 24 33\n",
      " 30  0 43 32  5 29 11 36  1 21  2 37 35 23 39 10 22 18 48 20  7 42 14 28\n",
      " 38]\n"
     ]
    }
   ],
   "source": [
    "np.random.seed(42) # 난수를 생성하기 위한 정수 초기값을 지정. 초기값이 같으면 동일한 난수를 뽑을 수 있음. 랜덤함수의 결과를 동일하게 쟇녀한고 싶을 때 사용\n",
    "index = np.arange(49) # 0 ~ 48 까지 1씩 증가하는 배열을 생성\n",
    "np.random.shuffle(index) # 주어진 배열을 무작위로 섞음\n",
    "print(index)"
   ]
  },
  {
   "cell_type": "code",
   "execution_count": 60,
   "id": "16dcce65",
   "metadata": {},
   "outputs": [
    {
     "name": "stdout",
     "output_type": "stream",
     "text": [
      "[[ 26.3 290. ]\n",
      " [ 29.  363. ]]\n"
     ]
    }
   ],
   "source": [
    "# 배열 인덱싱 한번에 여러개의 원소를 선택가능\n",
    "# 2번째, 4번째 샘플 선택 출력\n",
    "print(input_arr[[1, 3]]) "
   ]
  },
  {
   "cell_type": "code",
   "execution_count": 62,
   "id": "2b2f650b",
   "metadata": {},
   "outputs": [
    {
     "data": {
      "image/png": "[encoded data removed]",
      "text/plain": [
       "<Figure size 432x288 with 1 Axes>"
      ]
     },
     "metadata": {
      "needs_background": "light"
     },
     "output_type": "display_data"
    }
   ],
   "source": [
    "# 섞은 데이터 셋 준비\n",
    "train_input = input_arr[index[:35]]\n",
    "train_target = target_arr[index[:35]]\n",
    "test_input = input_arr[index[35:]]\n",
    "test_target = target_arr[index[35:]]\n",
    "\n",
    "# 훈련 셋과 테스트 셋에 도미와 빙어가 잘 섞여 있는지 그래프로 확인\n",
    "plt.scatter(train_input[:, 0], train_input[:, 1])\n",
    "plt.scatter(test_input[:, 0], test_input[:, 1])\n",
    "plt.xlabel('length')\n",
    "plt.ylabel('weight')\n",
    "plt.show()"
   ]
  },
  {
   "cell_type": "code",
   "execution_count": 65,
   "id": "9f1d97ac",
   "metadata": {},
   "outputs": [
    {
     "data": {
      "text/plain": [
       "1.0"
      ]
     },
     "execution_count": 65,
     "metadata": {},
     "output_type": "execute_result"
    }
   ],
   "source": [
    "kn.fit(train_input, train_target)\n",
    "kn.score(test_input, test_target)"
   ]
  },
  {
   "cell_type": "code",
   "execution_count": 66,
   "id": "8130eaed",
   "metadata": {},
   "outputs": [
    {
     "data": {
      "text/plain": [
       "array([0, 0, 1, 0, 1, 1, 1, 0, 1, 1, 0, 1, 1, 0])"
      ]
     },
     "execution_count": 66,
     "metadata": {},
     "output_type": "execute_result"
    }
   ],
   "source": [
    "kn.predict(test_input)"
   ]
  },
  {
   "cell_type": "code",
   "execution_count": 67,
   "id": "224817a9",
   "metadata": {},
   "outputs": [
    {
     "data": {
      "text/plain": [
       "array([0, 0, 1, 0, 1, 1, 1, 0, 1, 1, 0, 1, 1, 0])"
      ]
     },
     "execution_count": 67,
     "metadata": {},
     "output_type": "execute_result"
    }
   ],
   "source": [
    "test_target"
   ]
  },
  {
   "cell_type": "markdown",
   "id": "09317771",
   "metadata": {},
   "source": [
    "## 데이터 전처리\n",
    "- numpy로 input data, target data 준비하기\n",
    "- scikit-learn으로 훈련 셋과 테스트 셋 나누기"
   ]
  },
  {
   "cell_type": "markdown",
   "id": "ec40f9fc",
   "metadata": {},
   "source": [
    "### numpy로 input data, target data 준비하기"
   ]
  },
  {
   "cell_type": "code",
   "execution_count": 71,
   "id": "6156d96d",
   "metadata": {},
   "outputs": [
    {
     "data": {
      "text/plain": [
       "array([[1, 4],\n",
       "       [2, 5],\n",
       "       [3, 6]])"
      ]
     },
     "execution_count": 71,
     "metadata": {},
     "output_type": "execute_result"
    }
   ],
   "source": [
    "# 리스트를 일렬로 세운다음 나란히 연결하여 tuple로 전달한다.\n",
    "np.column_stack(([1, 2, 3], [4, 5, 6]))"
   ]
  },
  {
   "cell_type": "code",
   "execution_count": 70,
   "id": "5e6f84e1",
   "metadata": {},
   "outputs": [
    {
     "name": "stdout",
     "output_type": "stream",
     "text": [
      "[[ 25.4 242. ]\n",
      " [ 26.3 290. ]\n",
      " [ 26.5 340. ]\n",
      " [ 29.  363. ]\n",
      " [ 29.  430. ]]\n"
     ]
    }
   ],
   "source": [
    "fish_data = np.column_stack((length, weight))\n",
    "print(fish_data[:5])"
   ]
  },
  {
   "cell_type": "code",
   "execution_count": 73,
   "id": "65ce1435",
   "metadata": {},
   "outputs": [
    {
     "name": "stdout",
     "output_type": "stream",
     "text": [
      "[1. 1. 1. 1. 1. 1. 1. 1. 1. 1. 1. 1. 1. 1. 1. 1. 1. 1. 1. 1. 1. 1. 1. 1.\n",
      " 1. 1. 1. 1. 1. 1. 1. 1. 1. 1. 1. 0. 0. 0. 0. 0. 0. 0. 0. 0. 0. 0. 0. 0.\n",
      " 0.]\n"
     ]
    }
   ],
   "source": [
    "fish_target = np.concatenate((np.ones(35), np.zeros(14)))\n",
    "print(fish_target)"
   ]
  },
  {
   "cell_type": "markdown",
   "id": "fe8a0a7a",
   "metadata": {},
   "source": [
    "### scikit-learn으로 훈련 셋과 테스트 셋 나누기\n",
    "- train_test_split 이 함수는 기본적으로 25%를 테스트 셋으로 떼어 낸다.\n",
    "- stratify 옵션을 사용하여 타깃 데이터를 전달하면 비율에 맞게 데이터를 나눈다. (처음 옵션을 사용하지 않았을 때 도미의 비율이 너무 많았지만 옵션을 사용한 후 비슷한 비율이 되었다.)"
   ]
  },
  {
   "cell_type": "code",
   "execution_count": 74,
   "id": "6845fe59",
   "metadata": {},
   "outputs": [],
   "source": [
    "from sklearn.model_selection import train_test_split"
   ]
  },
  {
   "cell_type": "code",
   "execution_count": 79,
   "id": "2fa05faa",
   "metadata": {},
   "outputs": [
    {
     "name": "stdout",
     "output_type": "stream",
     "text": [
      "(36, 2) (13, 2)\n",
      "(36,) (13,)\n",
      "[1. 0. 0. 0. 1. 1. 1. 1. 1. 1. 1. 1. 1.]\n"
     ]
    }
   ],
   "source": [
    "train_input, test_input, train_target, test_target = train_test_split(fish_data, fish_target, random_state=42)\n",
    "print(train_input.shape, test_input.shape)\n",
    "print(train_target.shape, test_target.shape)\n",
    "print(test_target)"
   ]
  },
  {
   "cell_type": "code",
   "execution_count": 80,
   "id": "f7e9805b",
   "metadata": {},
   "outputs": [
    {
     "name": "stdout",
     "output_type": "stream",
     "text": [
      "[0. 0. 1. 0. 1. 0. 1. 1. 1. 1. 1. 1. 1.]\n"
     ]
    }
   ],
   "source": [
    "train_input, test_input, train_target, test_target = train_test_split(fish_data, fish_target, stratify=fish_target, random_state=42)\n",
    "print(test_target)"
   ]
  },
  {
   "cell_type": "code",
   "execution_count": 82,
   "id": "46443b9c",
   "metadata": {},
   "outputs": [
    {
     "data": {
      "text/plain": [
       "1.0"
      ]
     },
     "execution_count": 82,
     "metadata": {},
     "output_type": "execute_result"
    }
   ],
   "source": [
    "kn = KNeighborsClassifier()\n",
    "kn.fit(train_input, train_target)\n",
    "kn.score(test_input, test_target)"
   ]
  },
  {
   "cell_type": "code",
   "execution_count": 83,
   "id": "28b3cc9a",
   "metadata": {},
   "outputs": [
    {
     "name": "stdout",
     "output_type": "stream",
     "text": [
      "[0.]\n"
     ]
    }
   ],
   "source": [
    "print(kn.predict([[25, 150]])) # 도미(1) 가 아닌 빙어(0) 가 나옴"
   ]
  },
  {
   "cell_type": "code",
   "execution_count": 85,
   "id": "c0ab8a8b",
   "metadata": {},
   "outputs": [
    {
     "data": {
      "image/png": "[encoded data removed]",
      "text/plain": [
       "<Figure size 432x288 with 1 Axes>"
      ]
     },
     "metadata": {
      "needs_background": "light"
     },
     "output_type": "display_data"
    }
   ],
   "source": [
    "plt.scatter(train_input[:, 0], train_input[:, 1])\n",
    "plt.scatter(25, 150, marker='^')\n",
    "plt.xlabel('length')\n",
    "plt.ylabel('weight')\n",
    "plt.show()"
   ]
  },
  {
   "cell_type": "code",
   "execution_count": 86,
   "id": "db5497da",
   "metadata": {},
   "outputs": [],
   "source": [
    "distance, indexes = kn.kneighbors([[25, 150]])"
   ]
  },
  {
   "cell_type": "markdown",
   "id": "fd7bdcbb",
   "metadata": {},
   "source": [
    "## Reference\n",
    "- [Fish.csv](https://www.kaggle.com/datasets/aungpyaeap/fish-market?select=Fish.csv)"
   ]
  }
 ],
 "metadata": {
  "kernelspec": {
   "display_name": "Python 3 (ipykernel)",
   "language": "python",
   "name": "python3"
  },
  "language_info": {
   "codemirror_mode": {
    "name": "ipython",
    "version": 3
   },
   "file_extension": ".py",
   "mimetype": "text/x-python",
   "name": "python",
   "nbconvert_exporter": "python",
   "pygments_lexer": "ipython3",
   "version": "3.9.12"
  }
 },
 "nbformat": 4,
 "nbformat_minor": 5
}
