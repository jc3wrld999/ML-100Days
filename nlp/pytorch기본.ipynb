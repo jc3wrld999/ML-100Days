{
 "cells": [
  {
   "cell_type": "code",
   "execution_count": 1,
   "id": "713655f6",
   "metadata": {},
   "outputs": [
    {
     "name": "stdout",
     "output_type": "stream",
     "text": [
      "-------------\n",
      "Mul vs Matmul\n",
      "-------------\n",
      "Shape of Matrix 1:  torch.Size([2, 2])\n",
      "Shape of Matrix 2:  torch.Size([2, 1])\n",
      "tensor([[ 5.],\n",
      "        [11.]])\n",
      "Shape of Matrix 1:  torch.Size([2, 2])\n",
      "Shape of Matrix 2:  torch.Size([2, 1])\n",
      "tensor([[1., 2.],\n",
      "        [6., 8.]])\n",
      "tensor([[1., 2.],\n",
      "        [6., 8.]])\n"
     ]
    }
   ],
   "source": [
    "import torch\n",
    "import numpy as np\n",
    "print('-------------')  \n",
    "print('Mul vs Matmul')  \n",
    "print('-------------')  \n",
    "m1 = torch.FloatTensor([[1, 2], [3, 4]])  \n",
    "m2 = torch.FloatTensor([[1], [2]])  \n",
    "print('Shape of Matrix 1: ', m1.shape) # 2 x 2  \n",
    "print('Shape of Matrix 2: ', m2.shape) # 2 x 1  \n",
    "print(m1.matmul(m2)) # 2 x 1  \n",
    "\n",
    "m1 = torch.FloatTensor([[1, 2], [3, 4]])  \n",
    "m2 = torch.FloatTensor([[1], [2]])  \n",
    "print('Shape of Matrix 1: ', m1.shape) # 2 x 2  \n",
    "print('Shape of Matrix 2: ', m2.shape) # 2 x 1  \n",
    "print(m1 * m2) # 2 x 2  \n",
    "print(m1.mul(m2))  \n"
   ]
  },
  {
   "cell_type": "markdown",
   "id": "4d983334",
   "metadata": {},
   "source": [
    "## 선형회귀"
   ]
  },
  {
   "cell_type": "code",
   "execution_count": 2,
   "id": "a0d12878",
   "metadata": {},
   "outputs": [
    {
     "data": {
      "text/plain": [
       "<torch._C.Generator at 0x24d0e404710>"
      ]
     },
     "execution_count": 2,
     "metadata": {},
     "output_type": "execute_result"
    }
   ],
   "source": [
    "# 가장 기본적인 선형회귀\n",
    "import torch\n",
    "import torch.nn as nn\n",
    "import torch.nn.functional as F\n",
    "import torch.optim as optim\n",
    "# 재사용을 위해 랜덤값을 초기화\n",
    "torch.manual_seed(1)\n"
   ]
  },
  {
   "cell_type": "code",
   "execution_count": 3,
   "id": "8d804aef",
   "metadata": {},
   "outputs": [],
   "source": [
    "x_train = torch.FloatTensor([[1], [2], [3]])\n",
    "y_train = torch.FloatTensor([[3], [6], [9]])"
   ]
  },
  {
   "cell_type": "code",
   "execution_count": 4,
   "id": "d95c061f",
   "metadata": {},
   "outputs": [],
   "source": [
    "W = torch.zeros(1, requires_grad=True)\n",
    "b = torch.zeros(1, requires_grad=True)\n",
    "hypothesis = x_train * W + b"
   ]
  },
  {
   "cell_type": "code",
   "execution_count": 5,
   "id": "aa3eb948",
   "metadata": {},
   "outputs": [],
   "source": [
    "cost = torch.mean((hypothesis - y_train) ** 2)\n",
    "optimizer = optim.SGD([W, b], lr=0.01)"
   ]
  },
  {
   "cell_type": "code",
   "execution_count": null,
   "id": "087cdcc4",
   "metadata": {},
   "outputs": [],
   "source": [
    "nb_"
   ]
  },
  {
   "cell_type": "markdown",
   "id": "13ecde51",
   "metadata": {},
   "source": [
    "## Reference\n",
    "- [PyTorch tutorial](https://tutorials.pytorch.kr/beginner/basics/tensorqs_tutorial.html)\n",
    "\n",
    "- [모두를 위한 딥러닝 시즌2](https://github.com/deeplearningzerotoall/PyTorch)\n",
    "\n",
    "- [PyTorch로 시작하는 딥 러닝 입문](https://wikidocs.net/book/2788)"
   ]
  }
 ],
 "metadata": {
  "kernelspec": {
   "display_name": "Python 3 (ipykernel)",
   "language": "python",
   "name": "python3"
  },
  "language_info": {
   "codemirror_mode": {
    "name": "ipython",
    "version": 3
   },
   "file_extension": ".py",
   "mimetype": "text/x-python",
   "name": "python",
   "nbconvert_exporter": "python",
   "pygments_lexer": "ipython3",
   "version": "3.9.5"
  }
 },
 "nbformat": 4,
 "nbformat_minor": 5
}
