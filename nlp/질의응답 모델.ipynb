{
 "cells": [
  {
   "cell_type": "code",
   "execution_count": 3,
   "id": "d50b7a90",
   "metadata": {},
   "outputs": [],
   "source": [
    "import torch\n",
    "from ratsnlp.nlpbook.qa import QATrainArguments\n",
    "args = QATrainArguments(\n",
    "    pretrained_model_name=\"beomi/kcbert-base\",\n",
    "    downstream_corpus_name=\"korquad-v1\",\n",
    "    downstream_model_dir=\"nlpbook/checkpoint-qa\",\n",
    "    max_seq_length=128,\n",
    "    max_query_length=32,\n",
    "    doc_stride=64,\n",
    "    batch_size=32 if torch.cuda.is_available() else 4,\n",
    "    learning_rate=5e-5,\n",
    "    epochs=3,\n",
    "    tpu_cores=0 if torch.cuda.is_available() else 8,\n",
    "    seed=7,\n",
    ")"
   ]
  },
  {
   "cell_type": "code",
   "execution_count": 4,
   "id": "f2db42e7",
   "metadata": {},
   "outputs": [
    {
     "name": "stdout",
     "output_type": "stream",
     "text": [
      "set seed: 7\n"
     ]
    }
   ],
   "source": [
    "from ratsnlp import nlpbook\n",
    "nlpbook.set_seed(args)"
   ]
  },
  {
   "cell_type": "code",
   "execution_count": 5,
   "id": "f53ad5f6",
   "metadata": {},
   "outputs": [],
   "source": [
    "nlpbook.set_logger(args)"
   ]
  },
  {
   "cell_type": "markdown",
   "id": "f2006bde",
   "metadata": {},
   "source": [
    "### 1. 말뭉치 내려받기"
   ]
  },
  {
   "cell_type": "code",
   "execution_count": 6,
   "id": "27cfa601",
   "metadata": {},
   "outputs": [
    {
     "name": "stderr",
     "output_type": "stream",
     "text": [
      "Downloading: 38.5MB [00:00, 49.3MB/s]                                                                                  \n",
      "Downloading: 3.88MB [00:00, 34.7MB/s]                                                                                  \n"
     ]
    }
   ],
   "source": [
    "nlpbook.download_downstream_dataset(args)"
   ]
  },
  {
   "cell_type": "markdown",
   "id": "12897fe1",
   "metadata": {},
   "source": [
    "### 2. 토크나이저 준비하기"
   ]
  },
  {
   "cell_type": "code",
   "execution_count": 7,
   "id": "4840ca54",
   "metadata": {},
   "outputs": [],
   "source": [
    "from transformers import BertTokenizer\n",
    "tokenizer = BertTokenizer.from_pretrained(\n",
    "    args.pretrained_model_name,\n",
    "    do_lower_case=False,\n",
    ")"
   ]
  },
  {
   "cell_type": "markdown",
   "id": "11a3462c",
   "metadata": {},
   "source": [
    "### 3. 데이터 전처리하기"
   ]
  },
  {
   "cell_type": "code",
   "execution_count": 10,
   "id": "c905ce06",
   "metadata": {},
   "outputs": [
    {
     "ename": "TypeError",
     "evalue": "'KorQuADV1Corpus' object is not subscriptable",
     "output_type": "error",
     "traceback": [
      "\u001b[1;31m---------------------------------------------------------------------------\u001b[0m",
      "\u001b[1;31mTypeError\u001b[0m                                 Traceback (most recent call last)",
      "Cell \u001b[1;32mIn [10], line 3\u001b[0m\n\u001b[0;32m      1\u001b[0m \u001b[38;5;28;01mfrom\u001b[39;00m \u001b[38;5;21;01mratsnlp\u001b[39;00m\u001b[38;5;21;01m.\u001b[39;00m\u001b[38;5;21;01mnlpbook\u001b[39;00m\u001b[38;5;21;01m.\u001b[39;00m\u001b[38;5;21;01mqa\u001b[39;00m \u001b[38;5;28;01mimport\u001b[39;00m KorQuADV1Corpus, QADataset\n\u001b[0;32m      2\u001b[0m corpus \u001b[38;5;241m=\u001b[39m KorQuADV1Corpus()\n\u001b[1;32m----> 3\u001b[0m \u001b[43mcorpus\u001b[49m\u001b[43m[\u001b[49m\u001b[38;5;241;43m0\u001b[39;49m\u001b[43m]\u001b[49m\n",
      "\u001b[1;31mTypeError\u001b[0m: 'KorQuADV1Corpus' object is not subscriptable"
     ]
    }
   ],
   "source": [
    "from ratsnlp.nlpbook.qa import KorQuADV1Corpus, QADataset\n",
    "corpus = KorQuADV1Corpus()\n",
    "corpus"
   ]
  }
 ],
 "metadata": {
  "kernelspec": {
   "display_name": "Python 3 (ipykernel)",
   "language": "python",
   "name": "python3"
  },
  "language_info": {
   "codemirror_mode": {
    "name": "ipython",
    "version": 3
   },
   "file_extension": ".py",
   "mimetype": "text/x-python",
   "name": "python",
   "nbconvert_exporter": "python",
   "pygments_lexer": "ipython3",
   "version": "3.9.5"
  }
 },
 "nbformat": 4,
 "nbformat_minor": 5
}
