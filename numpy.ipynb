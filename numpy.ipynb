{
 "cells": [
  {
   "cell_type": "code",
   "execution_count": 1,
   "id": "206c15dc",
   "metadata": {},
   "outputs": [],
   "source": [
    "import numpy as np"
   ]
  },
  {
   "cell_type": "markdown",
   "id": "bdf7aada",
   "metadata": {},
   "source": [
    "### ndarray 생성"
   ]
  },
  {
   "cell_type": "code",
   "execution_count": 20,
   "id": "568324ad",
   "metadata": {},
   "outputs": [
    {
     "name": "stdout",
     "output_type": "stream",
     "text": [
      "<class 'numpy.ndarray'>\n",
      "(3,)\n",
      "<class 'numpy.ndarray'>\n",
      "(2, 3)\n",
      "<class 'numpy.ndarray'>\n",
      "(1, 3)\n"
     ]
    }
   ],
   "source": [
    "list1 = [1, 2, 3]\n",
    "type(list1)\n",
    "\n",
    "array1 = np.array(list1)\n",
    "#array1 = np.array([1,2,3])\n",
    "\n",
    "print(type(array1))\n",
    "print(array1.shape)\n",
    "\n",
    "array2 = np.array([[1,2,3],\n",
    "                  [2,3,4]])\n",
    "print(type(array2))\n",
    "print(array2.shape)\n",
    "\n",
    "array3 = np.array([[1,2,3]])\n",
    "print(type(array3))\n",
    "print(array3.shape)"
   ]
  },
  {
   "cell_type": "code",
   "execution_count": 12,
   "id": "7365c0a5",
   "metadata": {},
   "outputs": [
    {
     "data": {
      "text/plain": [
       "(1, 2, 2)"
      ]
     },
     "execution_count": 12,
     "metadata": {},
     "output_type": "execute_result"
    }
   ],
   "source": [
    "array1.ndim, array2.ndim, array3.ndim # 차원 개수"
   ]
  },
  {
   "cell_type": "markdown",
   "id": "ad0bc21f",
   "metadata": {},
   "source": [
    "### ndarray data type"
   ]
  },
  {
   "cell_type": "code",
   "execution_count": 21,
   "id": "68c4b2b7",
   "metadata": {},
   "outputs": [
    {
     "data": {
      "text/plain": [
       "(array([1, 2, 3]), dtype('int32'))"
      ]
     },
     "execution_count": 21,
     "metadata": {},
     "output_type": "execute_result"
    }
   ],
   "source": [
    "list1 = [1,2,3]\n",
    "array1 = np.array(list1)\n",
    "array1, array1.dtype"
   ]
  },
  {
   "cell_type": "code",
   "execution_count": 29,
   "id": "66094c28",
   "metadata": {},
   "outputs": [
    {
     "name": "stdout",
     "output_type": "stream",
     "text": [
      "['1' '2' 'test'] <U11\n",
      "[1. 2. 3.] float64\n"
     ]
    }
   ],
   "source": [
    "list2 = [1, 2, 'test']\n",
    "array2 = np.array(list2)\n",
    "print(array2, array2.dtype) # 문자열 array\n",
    "\n",
    "list3 = [1, 2, 3.0]\n",
    "array3 = np.array(list3)\n",
    "print(array3, array3.dtype) # float array"
   ]
  },
  {
   "cell_type": "code",
   "execution_count": 31,
   "id": "a49a4ea7",
   "metadata": {},
   "outputs": [
    {
     "name": "stdout",
     "output_type": "stream",
     "text": [
      "[1. 2. 3.] float64\n",
      "[1 2 3] int32\n",
      "[1 2 3] int32\n"
     ]
    }
   ],
   "source": [
    "array_int = np.array([1, 2, 3])\n",
    "array_float = array_int.astype('float64') # array_int.astype(np.float64)\n",
    "print(array_float, array_float.dtype)\n",
    "\n",
    "array_int1= array_float.astype('int32')\n",
    "print(array_int1, array_int1.dtype)\n",
    "\n",
    "array_float1 = np.array([1.1, 2.1, 3.1])\n",
    "array_int2= array_float1.astype('int32')\n",
    "print(array_int2, array_int2.dtype)"
   ]
  },
  {
   "cell_type": "markdown",
   "id": "bce9b84e",
   "metadata": {},
   "source": [
    "### ndarray를 편리하게 생성하기 - arange, zeros, ones"
   ]
  },
  {
   "cell_type": "code",
   "execution_count": 8,
   "id": "4d740a90",
   "metadata": {},
   "outputs": [
    {
     "name": "stdout",
     "output_type": "stream",
     "text": [
      "[0 1 2 3 4 5 6 7 8 9]\n",
      "int32 (10,)\n"
     ]
    }
   ],
   "source": [
    "sequence_array = np.arange(10)\n",
    "sequence_array\n",
    "sequence_array.dtype, sequence_array.shape"
   ]
  },
  {
   "cell_type": "code",
   "execution_count": 9,
   "id": "3fd00328",
   "metadata": {},
   "outputs": [
    {
     "name": "stdout",
     "output_type": "stream",
     "text": [
      "[[0 0]\n",
      " [0 0]\n",
      " [0 0]]\n",
      "int32 (3, 2)\n",
      "[[1. 1.]\n",
      " [1. 1.]\n",
      " [1. 1.]]\n",
      "float64 (3, 2)\n"
     ]
    }
   ],
   "source": [
    "#(3, 2) shape을 가지는 모든 원소가 0, dtype은 int32 인 ndarray 생성.  \n",
    "zero_array = np.zeros((3, 2), dtype='int32')\n",
    "zero_array\n",
    "zero_array.dtype, zero_array.shape\n",
    "\n",
    "#(3, 2) shape을 가지는 모든 원소가 1인 ndarray 생성. ,\n",
    "one_array = np.ones((3, 2))\n",
    "one_array\n",
    "one_array.dtype, one_array.shape"
   ]
  },
  {
   "cell_type": "code",
   "execution_count": null,
   "id": "4c7404da",
   "metadata": {},
   "outputs": [],
   "source": [
    " "
   ]
  }
 ],
 "metadata": {
  "kernelspec": {
   "display_name": "Python 3 (ipykernel)",
   "language": "python",
   "name": "python3"
  },
  "language_info": {
   "codemirror_mode": {
    "name": "ipython",
    "version": 3
   },
   "file_extension": ".py",
   "mimetype": "text/x-python",
   "name": "python",
   "nbconvert_exporter": "python",
   "pygments_lexer": "ipython3",
   "version": "3.9.12"
  }
 },
 "nbformat": 4,
 "nbformat_minor": 5
}
