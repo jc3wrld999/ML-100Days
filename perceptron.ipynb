{
 "cells": [
  {
   "cell_type": "markdown",
   "id": "2cadeceb",
   "metadata": {},
   "source": [
    "## 퍼셉트론\n",
    "- 활성화 함수"
   ]
  },
  {
   "cell_type": "markdown",
   "id": "3e0d90cd",
   "metadata": {},
   "source": [
    "### 행렬의 연산"
   ]
  },
  {
   "cell_type": "code",
   "execution_count": 6,
   "id": "0bb79e35",
   "metadata": {},
   "outputs": [
    {
     "name": "stdout",
     "output_type": "stream",
     "text": [
      "[11.   9.2]\n",
      "[9.]\n"
     ]
    }
   ],
   "source": [
    "import numpy as np\n",
    "\n",
    "grade = 10\n",
    "test = 20\n",
    "\n",
    "input0 = np.array([grade, test])\n",
    "\n",
    "w1 = np.array(\n",
    "    [[0.5, 0.12],\n",
    "    [0.3, 0.4]]\n",
    ")\n",
    "\n",
    "w2 = np.array([[0.4], [0.5]])\n",
    "\n",
    "result0 = np.dot(input0, w1)\n",
    "result1 = np.dot(result0, w2)\n",
    "print(result0)\n",
    "print(result1)"
   ]
  },
  {
   "cell_type": "markdown",
   "id": "68379ae4",
   "metadata": {},
   "source": [
    "### step 함수(기본 활성화 함수)"
   ]
  },
  {
   "cell_type": "code",
   "execution_count": 12,
   "id": "919698ff",
   "metadata": {},
   "outputs": [],
   "source": [
    "def step(h):\n",
    "    return np.array(h>=0, dtype=\"int\") # 0을 넘기면 int를 반환"
   ]
  },
  {
   "cell_type": "code",
   "execution_count": 13,
   "id": "587d07e6",
   "metadata": {},
   "outputs": [
    {
     "data": {
      "text/plain": [
       "array([1, 1, 1, 1])"
      ]
     },
     "execution_count": 13,
     "metadata": {},
     "output_type": "execute_result"
    }
   ],
   "source": [
    "a0 = np.array([1, 2, 3, 4])\n",
    "step(a0)"
   ]
  },
  {
   "cell_type": "markdown",
   "id": "07dbeb78",
   "metadata": {},
   "source": [
    "이전에 작성한 네트워크에 활성화 함수를 대입해보자"
   ]
  },
  {
   "cell_type": "code",
   "execution_count": 14,
   "id": "142116c4",
   "metadata": {},
   "outputs": [
    {
     "name": "stdout",
     "output_type": "stream",
     "text": [
      "[1 1]\n",
      "[1]\n"
     ]
    }
   ],
   "source": [
    "result0 = np.dot(input0, w1)\n",
    "result0 = step(result0)\n",
    "result1 = np.dot(result0, w2)\n",
    "result1 = step(result1)\n",
    "print(result0)\n",
    "print(result1)"
   ]
  },
  {
   "cell_type": "code",
   "execution_count": 17,
   "id": "7b76a13e",
   "metadata": {},
   "outputs": [
    {
     "data": {
      "text/plain": [
       "[<matplotlib.lines.Line2D at 0x174fc799ca0>]"
      ]
     },
     "execution_count": 17,
     "metadata": {},
     "output_type": "execute_result"
    },
    {
     "data": {
      "image/png": "[encoded data removed]",
      "text/plain": [
       "<Figure size 640x480 with 1 Axes>"
      ]
     },
     "metadata": {},
     "output_type": "display_data"
    }
   ],
   "source": [
    "import matplotlib.pyplot as plt\n",
    "\n",
    "x = np.arange(-10, 10, 0.1)\n",
    "y = step(x)\n",
    "plt.plot(x, y)\n"
   ]
  },
  {
   "cell_type": "code",
   "execution_count": 18,
   "id": "fe50bd2b",
   "metadata": {},
   "outputs": [
    {
     "data": {
      "text/plain": [
       "[<matplotlib.lines.Line2D at 0x174fc7e6ac0>]"
      ]
     },
     "execution_count": 18,
     "metadata": {},
     "output_type": "execute_result"
    },
    {
     "data": {
      "image/png": "[encoded data removed]",
      "text/plain": [
       "<Figure size 640x480 with 1 Axes>"
      ]
     },
     "metadata": {},
     "output_type": "display_data"
    }
   ],
   "source": [
    "bias = 2\n",
    "x = np.arange(-10, 10, 0.1)\n",
    "y = step(x + bias)\n",
    "plt.plot(x, y)"
   ]
  },
  {
   "cell_type": "markdown",
   "id": "53e32a07",
   "metadata": {},
   "source": [
    "### 퍼셉트론을 활용한 비트연산"
   ]
  },
  {
   "cell_type": "code",
   "execution_count": 55,
   "id": "3147912f",
   "metadata": {},
   "outputs": [
    {
     "name": "stdout",
     "output_type": "stream",
     "text": [
      "1 and 1 = 1\n",
      "1 and 0 = 0\n",
      "0 and 1 = 0\n",
      "0 and 0 = 0\n"
     ]
    }
   ],
   "source": [
    "# and 연산\n",
    "def _and(a, b):\n",
    "    w1 = .25\n",
    "    w2 =  .25\n",
    "    bias = -.5\n",
    "    y = w1 * a + w2 * b + bias\n",
    "    result = step(y)\n",
    "    return result\n",
    "        \n",
    "inputs = [[1, 1],\n",
    "          [1, 0],\n",
    "          [0, 1],\n",
    "          [0, 0]]\n",
    "\n",
    "for a, b in inputs:\n",
    "    result = _and(a, b)\n",
    "    print(f'{a} and {b} = {result}')"
   ]
  },
  {
   "cell_type": "code",
   "execution_count": 53,
   "id": "aaede5c2",
   "metadata": {},
   "outputs": [
    {
     "name": "stdout",
     "output_type": "stream",
     "text": [
      "1 and 1 = 1\n",
      "1 and 0 = 1\n",
      "0 and 1 = 1\n",
      "0 and 0 = 0\n"
     ]
    }
   ],
   "source": [
    "# or 연산\n",
    "def _or(a, b):\n",
    "    w1 = .25\n",
    "    w2 =  .25\n",
    "    bias = -.25\n",
    "    y = w1 * a + w2 * b + bias\n",
    "    result = step(y)\n",
    "    return result\n",
    "\n",
    "inputs = [[1, 1], # 1\n",
    "          [1, 0], # 1\n",
    "          [0, 1], # 1\n",
    "          [0, 0]] # 0\n",
    "\n",
    "for a, b in inputs:\n",
    "    result = _or(a, b)\n",
    "    print(f'{a} and {b} = {result}')"
   ]
  },
  {
   "cell_type": "code",
   "execution_count": 52,
   "id": "e8656459",
   "metadata": {},
   "outputs": [
    {
     "data": {
      "text/plain": [
       "array([0, 1, 0, 1])"
      ]
     },
     "execution_count": 52,
     "metadata": {},
     "output_type": "execute_result"
    }
   ],
   "source": [
    "# not 연산\n",
    "def _not(x):\n",
    "    return np.array(~(x == 1), dtype='int')\n",
    "    \n",
    "x = np.array([1, 0, 1, 0])\n",
    "\n",
    "_not(x)\n"
   ]
  },
  {
   "cell_type": "code",
   "execution_count": null,
   "id": "7898b2bd",
   "metadata": {},
   "outputs": [],
   "source": [
    "# xor\n",
    "def _xor():\n",
    "    \n",
    "    \n",
    "inputs = [[1, 1], # 1\n",
    "          [1, 0], # 1\n",
    "          [0, 1], # 1\n",
    "          [0, 0]] # 0\n",
    "\n",
    "for a, b in inputs:\n",
    "    result = _or(a, b)\n",
    "    print(f'{a} and {b} = {result}')"
   ]
  }
 ],
 "metadata": {
  "kernelspec": {
   "display_name": "Python 3 (ipykernel)",
   "language": "python",
   "name": "python3"
  },
  "language_info": {
   "codemirror_mode": {
    "name": "ipython",
    "version": 3
   },
   "file_extension": ".py",
   "mimetype": "text/x-python",
   "name": "python",
   "nbconvert_exporter": "python",
   "pygments_lexer": "ipython3",
   "version": "3.9.5"
  }
 },
 "nbformat": 4,
 "nbformat_minor": 5
}
