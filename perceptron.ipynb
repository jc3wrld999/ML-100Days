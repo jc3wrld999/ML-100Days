{
 "cells": [
  {
   "cell_type": "markdown",
   "id": "98d66399",
   "metadata": {},
   "source": [
    "## 퍼셉트론\n",
    "- 활성화 함수"
   ]
  },
  {
   "cell_type": "markdown",
   "id": "93bba991",
   "metadata": {},
   "source": [
    "### 행렬의 연산"
   ]
  },
  {
   "cell_type": "code",
   "execution_count": 6,
   "id": "a68347ac",
   "metadata": {},
   "outputs": [
    {
     "name": "stdout",
     "output_type": "stream",
     "text": [
      "[11.   9.2]\n",
      "[9.]\n"
     ]
    }
   ],
   "source": [
    "import numpy as np\n",
    "\n",
    "grade = 10\n",
    "test = 20\n",
    "\n",
    "input0 = np.array([grade, test])\n",
    "\n",
    "w1 = np.array(\n",
    "    [[0.5, 0.12],\n",
    "    [0.3, 0.4]]\n",
    ")\n",
    "\n",
    "w2 = np.array([[0.4], [0.5]])\n",
    "\n",
    "result0 = np.dot(input0, w1)\n",
    "result1 = np.dot(result0, w2)\n",
    "print(result0)\n",
    "print(result1)"
   ]
  },
  {
   "cell_type": "markdown",
   "id": "66d664aa",
   "metadata": {},
   "source": [
    "### step 함수(기본 활성화 함수)"
   ]
  },
  {
   "cell_type": "code",
   "execution_count": 12,
   "id": "2872e309",
   "metadata": {},
   "outputs": [],
   "source": [
    "def step(h):\n",
    "    return np.array(h>=0, dtype=\"int\") # 0을 넘기면 int를 반환"
   ]
  },
  {
   "cell_type": "code",
   "execution_count": 13,
   "id": "9c9b8ba0",
   "metadata": {},
   "outputs": [
    {
     "data": {
      "text/plain": [
       "array([1, 1, 1, 1])"
      ]
     },
     "execution_count": 13,
     "metadata": {},
     "output_type": "execute_result"
    }
   ],
   "source": [
    "a0 = np.array([1, 2, 3, 4])\n",
    "step(a0)"
   ]
  },
  {
   "cell_type": "markdown",
   "id": "bec253ba",
   "metadata": {},
   "source": [
    "이전에 작성한 네트워크에 활성화 함수를 대입해보자"
   ]
  },
  {
   "cell_type": "code",
   "execution_count": 14,
   "id": "0c7c0f8a",
   "metadata": {},
   "outputs": [
    {
     "name": "stdout",
     "output_type": "stream",
     "text": [
      "[1 1]\n",
      "[1]\n"
     ]
    }
   ],
   "source": [
    "result0 = np.dot(input0, w1)\n",
    "result0 = step(result0)\n",
    "result1 = np.dot(result0, w2)\n",
    "result1 = step(result1)\n",
    "print(result0)\n",
    "print(result1)"
   ]
  },
  {
   "cell_type": "code",
   "execution_count": 17,
   "id": "b53ca085",
   "metadata": {},
   "outputs": [
    {
     "data": {
      "text/plain": [
       "[<matplotlib.lines.Line2D at 0x174fc799ca0>]"
      ]
     },
     "execution_count": 17,
     "metadata": {},
     "output_type": "execute_result"
    },
    {
     "data": {
      "image/png": "[encoded data removed]",
      "text/plain": [
       "<Figure size 640x480 with 1 Axes>"
      ]
     },
     "metadata": {},
     "output_type": "display_data"
    }
   ],
   "source": [
    "import matplotlib.pyplot as plt\n",
    "\n",
    "x = np.arange(-10, 10, 0.1)\n",
    "y = step(x)\n",
    "plt.plot(x, y)\n"
   ]
  },
  {
   "cell_type": "code",
   "execution_count": 18,
   "id": "06871e82",
   "metadata": {},
   "outputs": [
    {
     "data": {
      "text/plain": [
       "[<matplotlib.lines.Line2D at 0x174fc7e6ac0>]"
      ]
     },
     "execution_count": 18,
     "metadata": {},
     "output_type": "execute_result"
    },
    {
     "data": {
      "image/png": "[encoded data removed]",
      "text/plain": [
       "<Figure size 640x480 with 1 Axes>"
      ]
     },
     "metadata": {},
     "output_type": "display_data"
    }
   ],
   "source": [
    "bias = 2\n",
    "x = np.arange(-10, 10, 0.1)\n",
    "y = step(x + bias)\n",
    "plt.plot(x, y)"
   ]
  },
  {
   "cell_type": "markdown",
   "id": "85216247",
   "metadata": {},
   "source": [
    "### 퍼셉트론을 활용한 비트연산"
   ]
  },
  {
   "cell_type": "code",
   "execution_count": 55,
   "id": "5c6d92cc",
   "metadata": {},
   "outputs": [
    {
     "name": "stdout",
     "output_type": "stream",
     "text": [
      "1 and 1 = 1\n",
      "1 and 0 = 0\n",
      "0 and 1 = 0\n",
      "0 and 0 = 0\n"
     ]
    }
   ],
   "source": [
    "# and 연산\n",
    "def _and(a, b):\n",
    "    w1 = .25\n",
    "    w2 =  .25\n",
    "    bias = -.5\n",
    "    y = w1 * a + w2 * b + bias\n",
    "    result = step(y)\n",
    "    return result\n",
    "        \n",
    "inputs = [[1, 1],\n",
    "          [1, 0],\n",
    "          [0, 1],\n",
    "          [0, 0]]\n",
    "\n",
    "for a, b in inputs:\n",
    "    result = _and(a, b)\n",
    "    print(f'{a} and {b} = {result}')"
   ]
  },
  {
   "cell_type": "code",
   "execution_count": 53,
   "id": "d0fb7942",
   "metadata": {},
   "outputs": [
    {
     "name": "stdout",
     "output_type": "stream",
     "text": [
      "1 and 1 = 1\n",
      "1 and 0 = 1\n",
      "0 and 1 = 1\n",
      "0 and 0 = 0\n"
     ]
    }
   ],
   "source": [
    "# or 연산\n",
    "def _or(a, b):\n",
    "    w1 = .25\n",
    "    w2 =  .25\n",
    "    bias = -.25\n",
    "    y = w1 * a + w2 * b + bias\n",
    "    result = step(y)\n",
    "    return result\n",
    "\n",
    "inputs = [[1, 1], # 1\n",
    "          [1, 0], # 1\n",
    "          [0, 1], # 1\n",
    "          [0, 0]] # 0\n",
    "\n",
    "for a, b in inputs:\n",
    "    result = _or(a, b)\n",
    "    print(f'{a} and {b} = {result}')"
   ]
  },
  {
   "cell_type": "code",
   "execution_count": 56,
   "id": "54494274",
   "metadata": {},
   "outputs": [
    {
     "data": {
      "text/plain": [
       "array([0, 1, 0, 1])"
      ]
     },
     "execution_count": 56,
     "metadata": {},
     "output_type": "execute_result"
    }
   ],
   "source": [
    "# not 연산\n",
    "def _not(x):\n",
    "    return np.array(~(x == 1), dtype='int')\n",
    "    \n",
    "x = np.array([1, 0, 1, 0])\n",
    "\n",
    "_not(x)\n"
   ]
  },
  {
   "cell_type": "code",
   "execution_count": 58,
   "id": "94954478",
   "metadata": {},
   "outputs": [
    {
     "name": "stdout",
     "output_type": "stream",
     "text": [
      "1 and 1 = 1\n",
      "1 and 0 = 1\n",
      "0 and 1 = 1\n",
      "0 and 0 = 0\n"
     ]
    }
   ],
   "source": [
    "# xor\n",
    "def _xor():\n",
    "    return _and(_not(_and(a, b)), _or(a, b))\n",
    "    \n",
    "inputs = [[1, 1], # 1\n",
    "          [1, 0], # 1\n",
    "          [0, 1], # 1\n",
    "          [0, 0]] # 0\n",
    "\n",
    "for a, b in inputs:\n",
    "    result = _or(a, b)\n",
    "    print(f'{a} and {b} = {result}')"
   ]
  },
  {
   "cell_type": "code",
   "execution_count": 59,
   "id": "114914e1",
   "metadata": {},
   "outputs": [
    {
     "name": "stderr",
     "output_type": "stream",
     "text": [
      "C:\\Users\\csjty\\AppData\\Local\\Temp\\ipykernel_29964\\118426689.py:2: DeprecationWarning: `np.int` is a deprecated alias for the builtin `int`. To silence this warning, use `int` by itself. Doing this will not modify any behavior and is safe. When replacing `np.int`, you may wish to use e.g. `np.int64` or `np.int32` to specify the precision. If you wish to review your current use, check the release note link for additional information.\n",
      "Deprecated in NumPy 1.20; for more details and guidance: https://numpy.org/devdocs/release/1.20.0-notes.html#deprecations\n",
      "  return np.array(x>0, dtype=np.int)\n"
     ]
    },
    {
     "data": {
      "image/png": "[encoded data removed]",
      "text/plain": [
       "<Figure size 640x480 with 1 Axes>"
      ]
     },
     "metadata": {},
     "output_type": "display_data"
    }
   ],
   "source": [
    "def step_function(x):\n",
    "    return np.array(x>0, dtype=np.int)\n",
    "\n",
    "X = np.arange(-10, 10, 0.1)\n",
    "Y = step_function(X)\n",
    "plt.plot(X, Y)\n",
    "plt.show()"
   ]
  },
  {
   "cell_type": "code",
   "execution_count": 61,
   "id": "ce0a25e4",
   "metadata": {},
   "outputs": [
    {
     "data": {
      "image/png": "[encoded data removed]",
      "text/plain": [
       "<Figure size 640x480 with 1 Axes>"
      ]
     },
     "metadata": {},
     "output_type": "display_data"
    }
   ],
   "source": [
    "def sigmoid(x):\n",
    "    return 1 / (1 + np.exp(-x))\n",
    "\n",
    "X = np.arange(-10, 10, 0.1)\n",
    "Y = sigmoid(X)\n",
    "plt.plot(X, Y)\n",
    "plt.show()"
   ]
  },
  {
   "cell_type": "markdown",
   "id": "3e24ed8f",
   "metadata": {},
   "source": [
    "## 활성화 함수와 신경망 구현\n",
    "### sigmoid 함수"
   ]
  },
  {
   "cell_type": "code",
   "execution_count": 63,
   "id": "15637253",
   "metadata": {},
   "outputs": [
    {
     "data": {
      "text/plain": [
       "0.9820137900379085"
      ]
     },
     "execution_count": 63,
     "metadata": {},
     "output_type": "execute_result"
    }
   ],
   "source": [
    "def sigmoid(x):\n",
    "    return 1 / (1+np.exp(-x))\n",
    "\n",
    "sigmoid(4)"
   ]
  },
  {
   "cell_type": "code",
   "execution_count": 64,
   "id": "89bb1f8e",
   "metadata": {},
   "outputs": [
    {
     "data": {
      "text/plain": [
       "[<matplotlib.lines.Line2D at 0x1748259f3a0>]"
      ]
     },
     "execution_count": 64,
     "metadata": {},
     "output_type": "execute_result"
    },
    {
     "data": {
      "image/png": "[encoded data removed]",
      "text/plain": [
       "<Figure size 640x480 with 1 Axes>"
      ]
     },
     "metadata": {},
     "output_type": "display_data"
    }
   ],
   "source": [
    "X = np.arange(-10, 10, 0.01)\n",
    "y = sigmoid(X)\n",
    "plt.plot(X, y)"
   ]
  },
  {
   "cell_type": "markdown",
   "id": "d648e2b9",
   "metadata": {},
   "source": [
    "### ReLU 함수\n",
    "- 입력이 0을 넘으면 그대로 출력, 0 이하면 0을 출력\n",
    "- 시그모이드의 결과는 1에 무한히 가까워지므로 아주 크거나 아주 작은 값의 오차를 측정하기 어려움"
   ]
  },
  {
   "cell_type": "code",
   "execution_count": 65,
   "id": "7c390a0c",
   "metadata": {},
   "outputs": [
    {
     "data": {
      "text/plain": [
       "[<matplotlib.lines.Line2D at 0x17482621190>]"
      ]
     },
     "execution_count": 65,
     "metadata": {},
     "output_type": "execute_result"
    },
    {
     "data": {
      "image/png": "[encoded data removed]",
      "text/plain": [
       "<Figure size 640x480 with 1 Axes>"
      ]
     },
     "metadata": {},
     "output_type": "display_data"
    }
   ],
   "source": [
    "def relu(x):\n",
    "    return np.maximum(0, x)\n",
    "\n",
    "x = np.arange(-10, 10, 0.1)\n",
    "y = relu(x)\n",
    "plt.plot(x, y)\n"
   ]
  },
  {
   "cell_type": "markdown",
   "id": "0ef900b7",
   "metadata": {},
   "source": [
    "### 신경망 구하기\n",
    "Numpy를 사용하여 2개의 입력 노드와 1개의 출력 노드가 있는 간단한 네트워크의 출력을 Sigmoid 활성화 함수로 계산하는 코드를 구성하라\n",
    "- 입력값은 [0.5, -0.3], 가중치는 [0.4, 0.6], 편향값은 -0.5\n",
    "- ndarray의 곱셈은 np.dot으로 연산\n",
    "- 시그모이드 함수를 구현 (Numpy의 지수 함수 np.exp를 사용)\n",
    "- 네트워크 출력을 계산\n",
    "- 최종 출력은 0.382252125230751이어야 함."
   ]
  },
  {
   "cell_type": "code",
   "execution_count": 71,
   "id": "9f313153",
   "metadata": {},
   "outputs": [
    {
     "name": "stdout",
     "output_type": "stream",
     "text": [
      "0.382252125230751\n"
     ]
    }
   ],
   "source": [
    "inputs = np.array([0.5, -0.3])\n",
    "weights = np.array([0.4, 0.6])\n",
    "bias = -0.5\n",
    "\n",
    "y = sigmoid(np.dot(inputs, weights.T) + bias)\n",
    "print(y)"
   ]
  },
  {
   "cell_type": "markdown",
   "id": "47dfb24c",
   "metadata": {},
   "source": [
    "다층 신경망도 구성해보자"
   ]
  },
  {
   "cell_type": "code",
   "execution_count": 72,
   "id": "a2513b97",
   "metadata": {},
   "outputs": [
    {
     "name": "stdout",
     "output_type": "stream",
     "text": [
      "[0.59065816 0.64523766]\n"
     ]
    }
   ],
   "source": [
    "inputs = [1.0, 0.5] # 1x2 행렬\n",
    "w1 = np.array([[0.1, 0.2, 0.3], [0.2, 0.3, 0.4]]) # 2x3 행렬\n",
    "b1 = np.array([0.2, 0.3, 0.4]) # 3개 노드\n",
    "w2 = np.array([[0.1, 0.2], [0.3, 0.2], [0.3, 0.4]]) # 3x2행렬\n",
    "b2 = np.array([0.1, 0.2]) # 2개 노드\n",
    "w3 = np.array([[0.1, 0.2], [0.3, 0.4]]) # 2x2행렬\n",
    "b3 = np.array([0.1, 0.2]) # 2개 노드\n",
    "\n",
    "# 신경망 구성 (포워딩)\n",
    "l1_output = np.dot(inputs, w1) + b1\n",
    "l1_y = sigmoid(l1_output)\n",
    "l2_output = np.dot(l1_y, w2) + b2\n",
    "l2_y = sigmoid(l2_output)\n",
    "l3_output = np.dot(l2_y, w3) + b3\n",
    "# 마지막 레이어에서는 경우에 따라서 다른 활성화 함수를 쓰거나 쓰지 않는 경우도 있음\n",
    "l3_y = sigmoid(l3_output)\n",
    "print(l3_y)"
   ]
  },
  {
   "cell_type": "markdown",
   "id": "38874d3a",
   "metadata": {},
   "source": [
    "### 소프트 맥스 함수 구현하기"
   ]
  },
  {
   "cell_type": "code",
   "execution_count": 73,
   "id": "2a974db6",
   "metadata": {},
   "outputs": [
    {
     "data": {
      "text/plain": [
       "array([0.02019046, 0.90253769, 0.04966053, 0.01108076, 0.01653055])"
      ]
     },
     "execution_count": 73,
     "metadata": {},
     "output_type": "execute_result"
    }
   ],
   "source": [
    "def origin_softmax(x):\n",
    "    f_x = np.exp(x) / np.sum(np.exp(x))\n",
    "    return f_x\n",
    "\n",
    "x = np.array([1.3, 5.1, 2.2, 0.7, 1.1])\n",
    "softmax_x = origin_softmax(x)\n",
    "softmax_x"
   ]
  },
  {
   "cell_type": "code",
   "execution_count": 74,
   "id": "5e5d319e",
   "metadata": {},
   "outputs": [
    {
     "data": {
      "text/plain": [
       "1.0"
      ]
     },
     "execution_count": 74,
     "metadata": {},
     "output_type": "execute_result"
    }
   ],
   "source": [
    "np.sum(softmax_x) # 소프트맥스의 총 합은 0이다."
   ]
  },
  {
   "cell_type": "markdown",
   "id": "288674fd",
   "metadata": {},
   "source": [
    "계산이 불가능한 숫자를 넣어보자."
   ]
  },
  {
   "cell_type": "code",
   "execution_count": 75,
   "id": "324dd504",
   "metadata": {},
   "outputs": [
    {
     "name": "stderr",
     "output_type": "stream",
     "text": [
      "C:\\Users\\csjty\\AppData\\Local\\Temp\\ipykernel_29964\\3339709200.py:2: RuntimeWarning: overflow encountered in exp\n",
      "  f_x = np.exp(x) / np.sum(np.exp(x))\n",
      "C:\\Users\\csjty\\AppData\\Local\\Temp\\ipykernel_29964\\3339709200.py:2: RuntimeWarning: invalid value encountered in divide\n",
      "  f_x = np.exp(x) / np.sum(np.exp(x))\n"
     ]
    },
    {
     "data": {
      "text/plain": [
       "array([nan,  0., nan,  0.,  0.])"
      ]
     },
     "execution_count": 75,
     "metadata": {},
     "output_type": "execute_result"
    }
   ],
   "source": [
    "x = np.array([10000, 10, 99999, 1, 2])\n",
    "softmax_x = origin_softmax(x)\n",
    "softmax_x"
   ]
  },
  {
   "cell_type": "markdown",
   "id": "2a2b7e1f",
   "metadata": {},
   "source": [
    "따라서 소프트맥스에 입력되는 조금이라도 크면 연산이 불가능하다. 따라서 입력된 값을 일괄적으로 낮춰주는 작업이 필요하다."
   ]
  },
  {
   "cell_type": "code",
   "execution_count": 76,
   "id": "457ef2e3",
   "metadata": {},
   "outputs": [
    {
     "data": {
      "text/plain": [
       "array([0., 0., 1., 0., 0.])"
      ]
     },
     "execution_count": 76,
     "metadata": {},
     "output_type": "execute_result"
    }
   ],
   "source": [
    "def softmax(x):\n",
    "    x = x - np.max(x) # x의 최대값을 모든 항에서 감산한다.\n",
    "    f_x = np.exp(x) / np.sum(np.exp(x))\n",
    "    return f_x\n",
    "\n",
    "x = np.array([10000, 10, 99999, 1, 2])\n",
    "softmax_x = softmax(x)\n",
    "softmax_x"
   ]
  },
  {
   "cell_type": "markdown",
   "id": "368b7af6",
   "metadata": {},
   "source": [
    "### MNIST 필기체 데이터셋으로 소프트맥스 함수 출력 결과 확인하기\n"
   ]
  },
  {
   "cell_type": "code",
   "execution_count": 81,
   "id": "5f6eca9d",
   "metadata": {},
   "outputs": [
    {
     "name": "stdout",
     "output_type": "stream",
     "text": [
      "(60000, 28, 28)\n",
      "(60000,)\n"
     ]
    }
   ],
   "source": [
    "import tensorflow as tf\n",
    "import matplotlib.pyplot as plt\n",
    "\n",
    "mnist = tf.keras.datasets.mnist\n",
    "(x_train, t_train), (x_test, t_test) = mnist.load_data()\n",
    "\n",
    "print(x_train.shape)\n",
    "print(t_train.shape)"
   ]
  },
  {
   "cell_type": "code",
   "execution_count": 84,
   "id": "9da52273",
   "metadata": {},
   "outputs": [
    {
     "data": {
      "text/plain": [
       "Text(0.5, 1.0, '5')"
      ]
     },
     "execution_count": 84,
     "metadata": {},
     "output_type": "execute_result"
    },
    {
     "data": {
      "image/png": "[encoded data removed]",
      "text/plain": [
       "<Figure size 640x480 with 1 Axes>"
      ]
     },
     "metadata": {},
     "output_type": "display_data"
    }
   ],
   "source": [
    "plt.imshow(x_train[0], cmap='gray')\n",
    "plt.title(t_train[0])"
   ]
  },
  {
   "cell_type": "code",
   "execution_count": 87,
   "id": "468d29cd",
   "metadata": {},
   "outputs": [
    {
     "data": {
      "text/plain": [
       "array([  0,   0,   0,   0,   0,   0,   0,   0,   0,   0,   0,   0,   0,\n",
       "         0,   0,   0,   0,   0,   0,   0,   0,   0,   0,   0,   0,   0,\n",
       "         0,   0,   0,   0,   0,   0,   0,   0,   0,   0,   0,   0,   0,\n",
       "         0,   0,   0,   0,   0,   0,   0,   0,   0,   0,   0,   0,   0,\n",
       "         0,   0,   0,   0,   0,   0,   0,   0,   0,   0,   0,   0,   0,\n",
       "         0,   0,   0,   0,   0,   0,   0,   0,   0,   0,   0,   0,   0,\n",
       "         0,   0,   0,   0,   0,   0,   0,   0,   0,   0,   0,   0,   0,\n",
       "         0,   0,   0,   0,   0,   0,   0,   0,   0,   0,   0,   0,   0,\n",
       "         0,   0,   0,   0,   0,   0,   0,   0,   0,   0,   0,   0,   0,\n",
       "         0,   0,   0,   0,   0,   0,   0,   0,   0,   0,   0,   0,   0,\n",
       "         0,   0,   0,   0,   0,   0,   0,   0,   0,   0,   0,   0,   0,\n",
       "         0,   0,   0,   0,   0,   0,   0,   0,   0,   3,  18,  18,  18,\n",
       "       126, 136, 175,  26, 166, 255, 247, 127,   0,   0,   0,   0,   0,\n",
       "         0,   0,   0,   0,   0,   0,   0,  30,  36,  94, 154, 170, 253,\n",
       "       253, 253, 253, 253, 225, 172, 253, 242, 195,  64,   0,   0,   0,\n",
       "         0,   0,   0,   0,   0,   0,   0,   0,  49, 238, 253, 253, 253,\n",
       "       253, 253, 253, 253, 253, 251,  93,  82,  82,  56,  39,   0,   0,\n",
       "         0,   0,   0,   0,   0,   0,   0,   0,   0,   0,  18, 219, 253,\n",
       "       253, 253, 253, 253, 198, 182, 247, 241,   0,   0,   0,   0,   0,\n",
       "         0,   0,   0,   0,   0,   0,   0,   0,   0,   0,   0,   0,   0,\n",
       "        80, 156, 107, 253, 253, 205,  11,   0,  43, 154,   0,   0,   0,\n",
       "         0,   0,   0,   0,   0,   0,   0,   0,   0,   0,   0,   0,   0,\n",
       "         0,   0,   0,  14,   1, 154, 253,  90,   0,   0,   0,   0,   0,\n",
       "         0,   0,   0,   0,   0,   0,   0,   0,   0,   0,   0,   0,   0,\n",
       "         0,   0,   0,   0,   0,   0,   0, 139, 253, 190,   2,   0,   0,\n",
       "         0,   0,   0,   0,   0,   0,   0,   0,   0,   0,   0,   0,   0,\n",
       "         0,   0,   0,   0,   0,   0,   0,   0,   0,  11, 190, 253,  70,\n",
       "         0,   0,   0,   0,   0,   0,   0,   0,   0,   0,   0,   0,   0,\n",
       "         0,   0,   0,   0,   0,   0,   0,   0,   0,   0,   0,   0,  35,\n",
       "       241, 225, 160, 108,   1,   0,   0,   0,   0,   0,   0,   0,   0,\n",
       "         0,   0,   0,   0,   0,   0,   0,   0,   0,   0,   0,   0,   0,\n",
       "         0,   0,  81, 240, 253, 253, 119,  25,   0,   0,   0,   0,   0,\n",
       "         0,   0,   0,   0,   0,   0,   0,   0,   0,   0,   0,   0,   0,\n",
       "         0,   0,   0,   0,   0,  45, 186, 253, 253, 150,  27,   0,   0,\n",
       "         0,   0,   0,   0,   0,   0,   0,   0,   0,   0,   0,   0,   0,\n",
       "         0,   0,   0,   0,   0,   0,   0,   0,  16,  93, 252, 253, 187,\n",
       "         0,   0,   0,   0,   0,   0,   0,   0,   0,   0,   0,   0,   0,\n",
       "         0,   0,   0,   0,   0,   0,   0,   0,   0,   0,   0,   0, 249,\n",
       "       253, 249,  64,   0,   0,   0,   0,   0,   0,   0,   0,   0,   0,\n",
       "         0,   0,   0,   0,   0,   0,   0,   0,   0,   0,   0,  46, 130,\n",
       "       183, 253, 253, 207,   2,   0,   0,   0,   0,   0,   0,   0,   0,\n",
       "         0,   0,   0,   0,   0,   0,   0,   0,   0,   0,   0,  39, 148,\n",
       "       229, 253, 253, 253, 250, 182,   0,   0,   0,   0,   0,   0,   0,\n",
       "         0,   0,   0,   0,   0,   0,   0,   0,   0,   0,   0,  24, 114,\n",
       "       221, 253, 253, 253, 253, 201,  78,   0,   0,   0,   0,   0,   0,\n",
       "         0,   0,   0,   0,   0,   0,   0,   0,   0,   0,   0,  23,  66,\n",
       "       213, 253, 253, 253, 253, 198,  81,   2,   0,   0,   0,   0,   0,\n",
       "         0,   0,   0,   0,   0,   0,   0,   0,   0,   0,   0,  18, 171,\n",
       "       219, 253, 253, 253, 253, 195,  80,   9,   0,   0,   0,   0,   0,\n",
       "         0,   0,   0,   0,   0,   0,   0,   0,   0,   0,   0,  55, 172,\n",
       "       226, 253, 253, 253, 253, 244, 133,  11,   0,   0,   0,   0,   0,\n",
       "         0,   0,   0,   0,   0,   0,   0,   0,   0,   0,   0,   0,   0,\n",
       "       136, 253, 253, 253, 212, 135, 132,  16,   0,   0,   0,   0,   0,\n",
       "         0,   0,   0,   0,   0,   0,   0,   0,   0,   0,   0,   0,   0,\n",
       "         0,   0,   0,   0,   0,   0,   0,   0,   0,   0,   0,   0,   0,\n",
       "         0,   0,   0,   0,   0,   0,   0,   0,   0,   0,   0,   0,   0,\n",
       "         0,   0,   0,   0,   0,   0,   0,   0,   0,   0,   0,   0,   0,\n",
       "         0,   0,   0,   0,   0,   0,   0,   0,   0,   0,   0,   0,   0,\n",
       "         0,   0,   0,   0,   0,   0,   0,   0,   0,   0,   0,   0,   0,\n",
       "         0,   0,   0,   0,   0,   0,   0,   0,   0,   0,   0,   0,   0,\n",
       "         0,   0,   0,   0], dtype=uint8)"
      ]
     },
     "execution_count": 87,
     "metadata": {},
     "output_type": "execute_result"
    }
   ],
   "source": [
    "x = x_train[0]\n",
    "# x.flatten('F')\n",
    "x.flatten()"
   ]
  },
  {
   "cell_type": "code",
   "execution_count": 88,
   "id": "5a715484",
   "metadata": {},
   "outputs": [
    {
     "data": {
      "text/plain": [
       "(784,)"
      ]
     },
     "execution_count": 88,
     "metadata": {},
     "output_type": "execute_result"
    }
   ],
   "source": [
    "x = x_train[0]\n",
    "x = x.flatten()/255\n",
    "x.shape"
   ]
  },
  {
   "cell_type": "code",
   "execution_count": 89,
   "id": "a1eca45c",
   "metadata": {},
   "outputs": [
    {
     "data": {
      "text/plain": [
       "5"
      ]
     },
     "execution_count": 89,
     "metadata": {},
     "output_type": "execute_result"
    }
   ],
   "source": [
    "y = np.array([0,0,0,0,0,1,0,0,0,0])\n",
    "y.argmax()"
   ]
  },
  {
   "cell_type": "markdown",
   "id": "8e281649",
   "metadata": {},
   "source": [
    "이 데이터를 전달할 신경망을 구성해보자"
   ]
  },
  {
   "cell_type": "code",
   "execution_count": 90,
   "id": "9916dc50",
   "metadata": {},
   "outputs": [],
   "source": [
    "inputs = x\n",
    "w1 = np.arange(0.0001, 0.2353, 0.0001).reshape(784, 3) # 2352\n",
    "b1 = np.array([0.2, 0.3, 0.4]) # 노드 3개\n",
    "w2 = np.array([[0.1, 0.2], [0.3, 0.2], [0.3, 0.4]])\n",
    "b2 = np.array([0.2, 0.3]) # 노드 2개\n",
    "w3 = np.array([[0.1, 0.2, 0.3, 0.4, 0.1, ]])"
   ]
  }
 ],
 "metadata": {
  "kernelspec": {
   "display_name": "Python 3 (ipykernel)",
   "language": "python",
   "name": "python3"
  },
  "language_info": {
   "codemirror_mode": {
    "name": "ipython",
    "version": 3
   },
   "file_extension": ".py",
   "mimetype": "text/x-python",
   "name": "python",
   "nbconvert_exporter": "python",
   "pygments_lexer": "ipython3",
   "version": "3.9.5"
  }
 },
 "nbformat": 4,
 "nbformat_minor": 5
}
