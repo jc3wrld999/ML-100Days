{
 "cells": [
  {
   "cell_type": "markdown",
   "id": "39ae7303",
   "metadata": {},
   "source": [
    "\n",
    "### 데이터 분류 예측 프로세스\n",
    "1. 데이터 세트 분리 ex) 데이터를 학습 데이터와 테스트 데이터로 분리\n",
    "2. 모델 학습 ex) 학습 데이터를 기반으로 ML 알고리즘을 적용해 모델을 학습\n",
    "3. 예측 수행 ex) 학습된 ML 모델을 이용해 테스트 데이터의 분류를 예측\n",
    "4. 평가 ex) 예측된 결과값과 테스트 데이터의 실제 결괏값을 비교해 ML 모델 성능을 평가\n",
    "\n",
    "\n"
   ]
  },
  {
   "cell_type": "code",
   "execution_count": 1,
   "id": "58ae74b8",
   "metadata": {},
   "outputs": [
    {
     "name": "stdout",
     "output_type": "stream",
     "text": [
      "1.0.2\n"
     ]
    }
   ],
   "source": [
    "import sklearn\n",
    "print(sklearn.__version__)"
   ]
  },
  {
   "cell_type": "markdown",
   "id": "b8e6f50c",
   "metadata": {},
   "source": [
    "iris 꽃 예측을 위한 사이킷런 필요 모듈 로딩"
   ]
  },
  {
   "cell_type": "code",
   "execution_count": 3,
   "id": "e1f0eecc",
   "metadata": {},
   "outputs": [],
   "source": [
    "from sklearn.datasets import load_iris\n",
    "from sklearn.tree import DecisionTreeClassifier\n",
    "from sklearn.model_selection import train_test_split"
   ]
  },
  {
   "cell_type": "markdown",
   "id": "59ebba34",
   "metadata": {},
   "source": [
    "데이터 셋을 로딩"
   ]
  },
  {
   "cell_type": "code",
   "execution_count": 4,
   "id": "f7c6be43",
   "metadata": {},
   "outputs": [
    {
     "name": "stdout",
     "output_type": "stream",
     "text": [
      "iris target 값:  [0 0 0 0 0 0 0 0 0 0 0 0 0 0 0 0 0 0 0 0 0 0 0 0 0 0 0 0 0 0 0 0 0 0 0 0 0\n",
      " 0 0 0 0 0 0 0 0 0 0 0 0 0 1 1 1 1 1 1 1 1 1 1 1 1 1 1 1 1 1 1 1 1 1 1 1 1\n",
      " 1 1 1 1 1 1 1 1 1 1 1 1 1 1 1 1 1 1 1 1 1 1 1 1 1 1 2 2 2 2 2 2 2 2 2 2 2\n",
      " 2 2 2 2 2 2 2 2 2 2 2 2 2 2 2 2 2 2 2 2 2 2 2 2 2 2 2 2 2 2 2 2 2 2 2 2 2\n",
      " 2 2]\n",
      "iris target 명:  ['setosa' 'versicolor' 'virginica']\n"
     ]
    }
   ],
   "source": [
    "import pandas as pd\n",
    "\n",
    "# iris dataset을 로딩\n",
    "iris = load_iris()\n",
    "\n",
    "# iris.data는 데이터셋에서 feature만으로 된 데이터를 numpy로 가지고 있다.\n",
    "iris_data = iris.data\n",
    "\n",
    "# iris.target은 데이터셋에서 레이블(결정값) 데이터를 numpy로 가지고 있다.\n",
    "iris_label = iris.target\n",
    "print('iris target 값: ', iris_label)\n",
    "print('iris target 명: ', iris.target_names)\n",
    "\n",
    "# 데이터셋을 자세히 보기 위해 DataFrame으로 변환\n",
    "iris\n"
   ]
  },
  {
   "cell_type": "markdown",
   "id": "cb6d7b16-bb2e-493c-95ba-091b197f8e23",
   "metadata": {},
   "source": [
    "### scikit-learn 특징\n",
    "- 다양한 머신러닝 알고리즘을 구현한 파이썬 라이브러리\n",
    "- 심플하고 일관성 있는 API, 유용한 온라인 문서, 풍부한 예제\n",
    "- 머신러닝을 위한 쉽고 효율적인 개발 라이브러리 제공\n",
    "- 다양한 머신러닝 관련 알고리즘과 개발을 위한 프레임워크와 API 제공\n",
    "- 많은 사람들이 사용하며 다양한 환경에서 검증된 라이브러리\n",
    "\n",
    "### scikit-learn 주요 모듈\n"
   ]
  },
  {
   "cell_type": "markdown",
   "id": "568dd4b9",
   "metadata": {},
   "source": [
    "#######################################"
   ]
  },
  {
   "cell_type": "code",
   "execution_count": 3,
   "id": "5a23fdba-c15d-4a03-994e-68607406fa8e",
   "metadata": {},
   "outputs": [],
   "source": [
    "import numpy as np\n",
    "import matplotlib.pyplot as plt\n",
    "plt.style.use(['seaborn-whitegrid'])"
   ]
  },
  {
   "cell_type": "code",
   "execution_count": 4,
   "id": "95a2cb32-6306-4e57-b650-a03d0daf444b",
   "metadata": {},
   "outputs": [
    {
     "data": {
      "text/plain": [
       "<matplotlib.collections.PathCollection at 0x29b7abe7fa0>"
      ]
     },
     "execution_count": 4,
     "metadata": {},
     "output_type": "execute_result"
    },
    {
     "data": {
      "image/png": "[encoded data removed]",
      "text/plain": [
       "<Figure size 432x288 with 1 Axes>"
      ]
     },
     "metadata": {},
     "output_type": "display_data"
    }
   ],
   "source": [
    "x = 10 * np.random.rand(50)\n",
    "y = 2 * x + np.random.rand(50)\n",
    "plt.scatter(x, y)"
   ]
  },
  {
   "cell_type": "code",
   "execution_count": 6,
   "id": "9ef04df7-34bf-4add-bb22-d8f64621054a",
   "metadata": {},
   "outputs": [],
   "source": [
    "#  적절한 estimator 클래스를 임포트해서 모델의 클래스 선택\n",
    "from sklearn.linear_model import LinearRegression"
   ]
  },
  {
   "cell_type": "code",
   "execution_count": 7,
   "id": "94f37704-1d34-4300-96da-34f794942b9c",
   "metadata": {},
   "outputs": [
    {
     "data": {
      "text/plain": [
       "LinearRegression()"
      ]
     },
     "execution_count": 7,
     "metadata": {},
     "output_type": "execute_result"
    }
   ],
   "source": [
    "# 클래스를 원하는 값으로 인스턴스화해서 모델의 하이퍼파라미터 선택\n",
    "model = LinearRegression(fit_intercept=True)\n",
    "model"
   ]
  },
  {
   "cell_type": "code",
   "execution_count": 9,
   "id": "0966c2ba",
   "metadata": {},
   "outputs": [
    {
     "data": {
      "text/plain": [
       "array([8.19903221, 2.24155396, 4.14449783, 9.15558811, 2.73318236,\n",
       "       6.15869355, 2.53832459, 0.94691583, 0.32879797, 2.4954682 ,\n",
       "       9.77918765, 6.52466088, 3.8498226 , 6.75431881, 5.480629  ,\n",
       "       3.65999077, 5.23694067, 2.10618088, 1.76040662, 3.80062471,\n",
       "       6.23007138, 8.99828256, 3.47473383, 0.43505892, 5.51702786,\n",
       "       5.12882549, 5.80378405, 0.6431158 , 4.94001703, 8.06712738,\n",
       "       0.96119471, 5.75022955, 6.13281747, 3.21555475, 8.65135286,\n",
       "       1.28981241, 1.52229688, 6.57176391, 1.75097252, 0.06676857,\n",
       "       8.88446376, 1.48895778, 1.03261975, 5.79360249, 4.67718366,\n",
       "       8.85181285, 6.79463466, 8.32258949, 8.02236708, 3.1553908 ])"
      ]
     },
     "execution_count": 9,
     "metadata": {},
     "output_type": "execute_result"
    }
   ],
   "source": [
    "x"
   ]
  },
  {
   "cell_type": "code",
   "execution_count": 8,
   "id": "6d69ce4a-14a6-4b5e-9f67-73d45aed94a2",
   "metadata": {},
   "outputs": [
    {
     "data": {
      "text/plain": [
       "array([[8.19903221],\n",
       "       [2.24155396],\n",
       "       [4.14449783],\n",
       "       [9.15558811],\n",
       "       [2.73318236],\n",
       "       [6.15869355],\n",
       "       [2.53832459],\n",
       "       [0.94691583],\n",
       "       [0.32879797],\n",
       "       [2.4954682 ],\n",
       "       [9.77918765],\n",
       "       [6.52466088],\n",
       "       [3.8498226 ],\n",
       "       [6.75431881],\n",
       "       [5.480629  ],\n",
       "       [3.65999077],\n",
       "       [5.23694067],\n",
       "       [2.10618088],\n",
       "       [1.76040662],\n",
       "       [3.80062471],\n",
       "       [6.23007138],\n",
       "       [8.99828256],\n",
       "       [3.47473383],\n",
       "       [0.43505892],\n",
       "       [5.51702786],\n",
       "       [5.12882549],\n",
       "       [5.80378405],\n",
       "       [0.6431158 ],\n",
       "       [4.94001703],\n",
       "       [8.06712738],\n",
       "       [0.96119471],\n",
       "       [5.75022955],\n",
       "       [6.13281747],\n",
       "       [3.21555475],\n",
       "       [8.65135286],\n",
       "       [1.28981241],\n",
       "       [1.52229688],\n",
       "       [6.57176391],\n",
       "       [1.75097252],\n",
       "       [0.06676857],\n",
       "       [8.88446376],\n",
       "       [1.48895778],\n",
       "       [1.03261975],\n",
       "       [5.79360249],\n",
       "       [4.67718366],\n",
       "       [8.85181285],\n",
       "       [6.79463466],\n",
       "       [8.32258949],\n",
       "       [8.02236708],\n",
       "       [3.1553908 ]])"
      ]
     },
     "execution_count": 8,
     "metadata": {},
     "output_type": "execute_result"
    }
   ],
   "source": [
    "# 데이터를 특징 배열과 대상 벡터로 배치\n",
    "X = x[:, np.newaxis]\n",
    "X"
   ]
  },
  {
   "cell_type": "code",
   "execution_count": 11,
   "id": "57d2c241-ccf4-4821-8631-41591bb1a69f",
   "metadata": {},
   "outputs": [
    {
     "data": {
      "text/plain": [
       "LinearRegression()"
      ]
     },
     "execution_count": 11,
     "metadata": {},
     "output_type": "execute_result"
    }
   ],
   "source": [
    "# 모델 인스턴스의 fit() 메서드를 호출해 모델을 데이터에 적합\n",
    "model.fit(X, y)"
   ]
  },
  {
   "cell_type": "code",
   "execution_count": 12,
   "id": "0c72307b-74f1-430e-b9e8-0673ad5774f4",
   "metadata": {},
   "outputs": [
    {
     "data": {
      "text/plain": [
       "array([1.99737793])"
      ]
     },
     "execution_count": 12,
     "metadata": {},
     "output_type": "execute_result"
    }
   ],
   "source": [
    "model.coef_"
   ]
  },
  {
   "cell_type": "code",
   "execution_count": 13,
   "id": "94632e1c-1457-478c-9897-0b0130e9d970",
   "metadata": {},
   "outputs": [
    {
     "data": {
      "text/plain": [
       "0.4796425547594563"
      ]
     },
     "execution_count": 13,
     "metadata": {},
     "output_type": "execute_result"
    }
   ],
   "source": [
    "model.intercept_"
   ]
  },
  {
   "cell_type": "code",
   "execution_count": 17,
   "id": "f8ace340-afaa-485c-8f18-b2e5cc305ace",
   "metadata": {},
   "outputs": [],
   "source": [
    "# 모델을 새 데이터에 대해서 적용\n",
    "xfit = np.linspace(-1, 11)\n",
    "Xfit = xfit[:, np.newaxis]\n",
    "yfit = model.predict(Xfit)"
   ]
  },
  {
   "cell_type": "code",
   "execution_count": 18,
   "id": "71b10c07-a038-4746-b252-9c5ee29649dc",
   "metadata": {},
   "outputs": [
    {
     "data": {
      "text/plain": [
       "[<matplotlib.lines.Line2D at 0x24d3c8259a0>]"
      ]
     },
     "execution_count": 18,
     "metadata": {},
     "output_type": "execute_result"
    },
    {
     "data": {
      "image/png": "[encoded data removed]",
      "text/plain": [
       "<Figure size 432x288 with 1 Axes>"
      ]
     },
     "metadata": {},
     "output_type": "display_data"
    }
   ],
   "source": [
    "plt.scatter(x, y)\n",
    "plt.plot(xfit, yfit, '--r')"
   ]
  },
  {
   "cell_type": "code",
   "execution_count": 19,
   "id": "e2c02d36-14bf-4a67-935b-5599f3757cfa",
   "metadata": {},
   "outputs": [
    {
     "name": "stdout",
     "output_type": "stream",
     "text": [
      "dict_keys(['data', 'target', 'frame', 'DESCR', 'feature_names', 'data_filename', 'target_filename', 'data_module'])\n"
     ]
    }
   ],
   "source": [
    "from sklearn.datasets import load_diabetes\n",
    "\n",
    "diabetes = load_diabetes()\n",
    "print(diabetes.keys())"
   ]
  },
  {
   "cell_type": "code",
   "execution_count": 20,
   "id": "ad6e952c-3510-490f-adb9-24ae768889d2",
   "metadata": {},
   "outputs": [
    {
     "name": "stdout",
     "output_type": "stream",
     "text": [
      "[[ 0.03807591  0.05068012  0.06169621 ... -0.00259226  0.01990842\n",
      "  -0.01764613]\n",
      " [-0.00188202 -0.04464164 -0.05147406 ... -0.03949338 -0.06832974\n",
      "  -0.09220405]\n",
      " [ 0.08529891  0.05068012  0.04445121 ... -0.00259226  0.00286377\n",
      "  -0.02593034]\n",
      " ...\n",
      " [ 0.04170844  0.05068012 -0.01590626 ... -0.01107952 -0.04687948\n",
      "   0.01549073]\n",
      " [-0.04547248 -0.04464164  0.03906215 ...  0.02655962  0.04452837\n",
      "  -0.02593034]\n",
      " [-0.04547248 -0.04464164 -0.0730303  ... -0.03949338 -0.00421986\n",
      "   0.00306441]]\n"
     ]
    }
   ],
   "source": [
    "print(diabetes.data)"
   ]
  },
  {
   "cell_type": "code",
   "execution_count": 21,
   "id": "752eb7ef-bfb4-469a-b65b-8f19ef8a590a",
   "metadata": {},
   "outputs": [
    {
     "name": "stdout",
     "output_type": "stream",
     "text": [
      "[151.  75. 141. 206. 135.  97. 138.  63. 110. 310. 101.  69. 179. 185.\n",
      " 118. 171. 166. 144.  97. 168.  68.  49.  68. 245. 184. 202. 137.  85.\n",
      " 131. 283. 129.  59. 341.  87.  65. 102. 265. 276. 252.  90. 100.  55.\n",
      "  61.  92. 259.  53. 190. 142.  75. 142. 155. 225.  59. 104. 182. 128.\n",
      "  52.  37. 170. 170.  61. 144.  52. 128.  71. 163. 150.  97. 160. 178.\n",
      "  48. 270. 202. 111.  85.  42. 170. 200. 252. 113. 143.  51.  52. 210.\n",
      "  65. 141.  55. 134.  42. 111.  98. 164.  48.  96.  90. 162. 150. 279.\n",
      "  92.  83. 128. 102. 302. 198.  95.  53. 134. 144. 232.  81. 104.  59.\n",
      " 246. 297. 258. 229. 275. 281. 179. 200. 200. 173. 180.  84. 121. 161.\n",
      "  99. 109. 115. 268. 274. 158. 107.  83. 103. 272.  85. 280. 336. 281.\n",
      " 118. 317. 235.  60. 174. 259. 178. 128.  96. 126. 288.  88. 292.  71.\n",
      " 197. 186.  25.  84.  96. 195.  53. 217. 172. 131. 214.  59.  70. 220.\n",
      " 268. 152.  47.  74. 295. 101. 151. 127. 237. 225.  81. 151. 107.  64.\n",
      " 138. 185. 265. 101. 137. 143. 141.  79. 292. 178.  91. 116.  86. 122.\n",
      "  72. 129. 142.  90. 158.  39. 196. 222. 277.  99. 196. 202. 155.  77.\n",
      " 191.  70.  73.  49.  65. 263. 248. 296. 214. 185.  78.  93. 252. 150.\n",
      "  77. 208.  77. 108. 160.  53. 220. 154. 259.  90. 246. 124.  67.  72.\n",
      " 257. 262. 275. 177.  71.  47. 187. 125.  78.  51. 258. 215. 303. 243.\n",
      "  91. 150. 310. 153. 346.  63.  89.  50.  39. 103. 308. 116. 145.  74.\n",
      "  45. 115. 264.  87. 202. 127. 182. 241.  66.  94. 283.  64. 102. 200.\n",
      " 265.  94. 230. 181. 156. 233.  60. 219.  80.  68. 332. 248.  84. 200.\n",
      "  55.  85.  89.  31. 129.  83. 275.  65. 198. 236. 253. 124.  44. 172.\n",
      " 114. 142. 109. 180. 144. 163. 147.  97. 220. 190. 109. 191. 122. 230.\n",
      " 242. 248. 249. 192. 131. 237.  78. 135. 244. 199. 270. 164.  72.  96.\n",
      " 306.  91. 214.  95. 216. 263. 178. 113. 200. 139. 139.  88. 148.  88.\n",
      " 243.  71.  77. 109. 272.  60.  54. 221.  90. 311. 281. 182. 321.  58.\n",
      " 262. 206. 233. 242. 123. 167.  63. 197.  71. 168. 140. 217. 121. 235.\n",
      " 245.  40.  52. 104. 132.  88.  69. 219.  72. 201. 110.  51. 277.  63.\n",
      " 118.  69. 273. 258.  43. 198. 242. 232. 175.  93. 168. 275. 293. 281.\n",
      "  72. 140. 189. 181. 209. 136. 261. 113. 131. 174. 257.  55.  84.  42.\n",
      " 146. 212. 233.  91. 111. 152. 120.  67. 310.  94. 183.  66. 173.  72.\n",
      "  49.  64.  48. 178. 104. 132. 220.  57.]\n"
     ]
    }
   ],
   "source": [
    "print(diabetes.target)"
   ]
  },
  {
   "cell_type": "code",
   "execution_count": 22,
   "id": "ed958395-d425-4b6c-b75b-f6e5fb49e2a0",
   "metadata": {},
   "outputs": [
    {
     "name": "stdout",
     "output_type": "stream",
     "text": [
      ".. _diabetes_dataset:\n",
      "\n",
      "Diabetes dataset\n",
      "----------------\n",
      "\n",
      "Ten baseline variables, age, sex, body mass index, average blood\n",
      "pressure, and six blood serum measurements were obtained for each of n =\n",
      "442 diabetes patients, as well as the response of interest, a\n",
      "quantitative measure of disease progression one year after baseline.\n",
      "\n",
      "**Data Set Characteristics:**\n",
      "\n",
      "  :Number of Instances: 442\n",
      "\n",
      "  :Number of Attributes: First 10 columns are numeric predictive values\n",
      "\n",
      "  :Target: Column 11 is a quantitative measure of disease progression one year after baseline\n",
      "\n",
      "  :Attribute Information:\n",
      "      - age     age in years\n",
      "      - sex\n",
      "      - bmi     body mass index\n",
      "      - bp      average blood pressure\n",
      "      - s1      tc, total serum cholesterol\n",
      "      - s2      ldl, low-density lipoproteins\n",
      "      - s3      hdl, high-density lipoproteins\n",
      "      - s4      tch, total cholesterol / HDL\n",
      "      - s5      ltg, possibly log of serum triglycerides level\n",
      "      - s6      glu, blood sugar level\n",
      "\n",
      "Note: Each of these 10 feature variables have been mean centered and scaled by the standard deviation times `n_samples` (i.e. the sum of squares of each column totals 1).\n",
      "\n",
      "Source URL:\n",
      "https://www4.stat.ncsu.edu/~boos/var.select/diabetes.html\n",
      "\n",
      "For more information see:\n",
      "Bradley Efron, Trevor Hastie, Iain Johnstone and Robert Tibshirani (2004) \"Least Angle Regression,\" Annals of Statistics (with discussion), 407-499.\n",
      "(https://web.stanford.edu/~hastie/Papers/LARS/LeastAngle_2002.pdf)\n"
     ]
    }
   ],
   "source": [
    "print(diabetes.DESCR)"
   ]
  },
  {
   "cell_type": "code",
   "execution_count": 25,
   "id": "71edadba-e9e4-4d04-b534-5c12f4a73d47",
   "metadata": {},
   "outputs": [
    {
     "name": "stdout",
     "output_type": "stream",
     "text": [
      "['age', 'sex', 'bmi', 'bp', 's1', 's2', 's3', 's4', 's5', 's6']\n",
      "diabetes_target.csv.gz\n"
     ]
    }
   ],
   "source": [
    "print(diabetes.feature_names)\n",
    "print(diabetes.target_filename)"
   ]
  },
  {
   "cell_type": "code",
   "execution_count": 28,
   "id": "eb0b35fc-95b7-4ec2-8cb2-5154b7a428a8",
   "metadata": {},
   "outputs": [
    {
     "name": "stdout",
     "output_type": "stream",
     "text": [
      "학습 데이터 점수: 0.506026397217644\n",
      "평가 데이터 점수: 0.5340840158386574\n"
     ]
    }
   ],
   "source": [
    "from sklearn.linear_model import LinearRegression\n",
    "from sklearn.model_selection import train_test_split\n",
    "from sklearn.datasets import load_diabetes\n",
    "\n",
    "diabetes = load_diabetes()\n",
    "X_train, X_test, y_train, y_test = train_test_split(diabetes.data, diabetes.target, test_size=0.3)\n",
    "\n",
    "model = LinearRegression()\n",
    "model.fit(X_train, y_train)\n",
    "\n",
    "print(\"학습 데이터 점수: {}\".format(model.score(X_train, y_train)))\n",
    "print(\"평가 데이터 점수: {}\".format(model.score(X_test, y_test)))\n"
   ]
  },
  {
   "cell_type": "code",
   "execution_count": 31,
   "id": "e624ac1b-855f-408b-a254-acfa6dbecdaf",
   "metadata": {},
   "outputs": [
    {
     "data": {
      "image/png": "[encoded data removed]",
      "text/plain": [
       "<Figure size 576x288 with 1 Axes>"
      ]
     },
     "metadata": {},
     "output_type": "display_data"
    }
   ],
   "source": [
    "import matplotlib.pyplot as plt\n",
    "\n",
    "predicted = model.predict(X_test)\n",
    "expected = y_test\n",
    "plt.figure(figsize=(8, 4))\n",
    "plt.scatter(expected, predicted)\n",
    "plt.plot([30, 350], [30, 350], '--r')\n",
    "plt.tight_layout() "
   ]
  },
  {
   "cell_type": "code",
   "execution_count": null,
   "id": "7eb32db3-ee58-4c6b-99ce-19f9aed8abe2",
   "metadata": {},
   "outputs": [],
   "source": [
    "from sklearn.model_selection import cross_val_score, cross_validate\n",
    "\n",
    "scores = cross_val_score(model, diabetes.data, diabetes.target, cv=5)\n",
    "\n",
    "print(\"교차 검증 정확동: {}\".format(scores))\n",
    "print(\"교차 검증 정확동: {}\".format(scores))"
   ]
  },
  {
   "cell_type": "code",
   "execution_count": 10,
   "id": "9f4515ae",
   "metadata": {},
   "outputs": [
    {
     "ename": "NameError",
     "evalue": "name 'y_test' is not defined",
     "output_type": "error",
     "traceback": [
      "\u001b[1;31m---------------------------------------------------------------------------\u001b[0m",
      "\u001b[1;31mNameError\u001b[0m                                 Traceback (most recent call last)",
      "Input \u001b[1;32mIn [10]\u001b[0m, in \u001b[0;36m<cell line: 3>\u001b[1;34m()\u001b[0m\n\u001b[0;32m      1\u001b[0m \u001b[38;5;28;01mfrom\u001b[39;00m \u001b[38;5;21;01msklearn\u001b[39;00m\u001b[38;5;21;01m.\u001b[39;00m\u001b[38;5;21;01mmetrics\u001b[39;00m \u001b[38;5;28;01mimport\u001b[39;00m confusion_matrix\n\u001b[1;32m----> 3\u001b[0m confmat \u001b[38;5;241m=\u001b[39m confusion_matrix(y_true\u001b[38;5;241m=\u001b[39m\u001b[43my_test\u001b[49m, y_pred\u001b[38;5;241m=\u001b[39mpredict)\n\u001b[0;32m      4\u001b[0m \u001b[38;5;28mprint\u001b[39m(confmat)\n",
      "\u001b[1;31mNameError\u001b[0m: name 'y_test' is not defined"
     ]
    }
   ],
   "source": [
    "from sklearn.metrics import confusion_matrix\n",
    "\n",
    "confmat = confusion_matrix(y_true=y_test, y_pred=predict)\n",
    "print(confmat)"
   ]
  }
 ],
 "metadata": {
  "kernelspec": {
   "display_name": "Python 3 (ipykernel)",
   "language": "python",
   "name": "python3"
  },
  "language_info": {
   "codemirror_mode": {
    "name": "ipython",
    "version": 3
   },
   "file_extension": ".py",
   "mimetype": "text/x-python",
   "name": "python",
   "nbconvert_exporter": "python",
   "pygments_lexer": "ipython3",
   "version": "3.9.12"
  }
 },
 "nbformat": 4,
 "nbformat_minor": 5
}
