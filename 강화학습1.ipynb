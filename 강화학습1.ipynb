{
 "cells": [
  {
   "cell_type": "markdown",
   "id": "0ac9ecc5",
   "metadata": {},
   "source": [
    "## 강화학습이란\n",
    "- `미래의 컴퓨터 언어에서는 컴퓨터가 수행할 구체적인 절차를 서술하는 것보다 컴퓨터가 수행했으면 하는 목표를 서술하는 것이 더 중요해질 것이다.`\n",
    "- 기계학습의 한 분야인 심층 강화학습(deep reinforcement learning, DRL)은 심층학습 모형(심층 신경망)을 이용해서 강화학습(RL) 과제를 해결하려 한다.\n",
    "- 이미지 분류 문제에서는 여러 범주(category)의 이미지들을 기계학습 모형이 분석해서 각 이미지가 구체적으로 어떤 동물인지를 분류한다.\n",
    "### 심층 강화학습에서 '심층'의 의미\n",
    "- 심층학습 모형(딥러닝 모델)은 이미지를 분류하는 데 사용할 수 있는 여러 기계학습 모형의 하나일 뿐이다.\n",
    "- 일반화해서 말하면 분류 문제란 어떤 입력 하나(이미지, 동영상..)를 받고 그 입력의 분류명을 돌려주는 함수 또는 모형을 구하는 것\n",
    "- 그런 함수에는 고정된 개수의 조정 가능한 매개변수들이 있다.\n",
    "- 이런 종류의 모형을 매개변수 모형이라고 부른다.\n",
    "- 처음에는 모형의 매개변수들을 난수로 초기화한다. \n",
    "- 이 상태의 모형에 이미지를 입력하면 무작위한 분류명이 나온다. 모형이 좀 더 정확한 분류명을 출력하도록 매개변수들을 반복해서 조정해 나가는 과정을 training이라고 부른다.\n",
    "- 훈련을 거듭하다 부면 언젠가는 매개변수들이 최적의 값들에 도달하며 그 때부터는 훈련을 더 반복해도 분류 결과가 나아지지 않는다.\n",
    "- 이런 매개변수 모형은 회귀에도 쓰인다. 회귀는 모형을 데이터에 적합시킴으로써 모형으로 미지의 데이터를 예측하는 것을 말한다. "
   ]
  },
  {
   "cell_type": "code",
   "execution_count": null,
   "id": "b8f70b24",
   "metadata": {},
   "outputs": [],
   "source": []
  },
  {
   "cell_type": "markdown",
   "id": "2483b7d2",
   "metadata": {},
   "source": [
    "## Reference\n",
    "- [심층 강화학습 인 액션](https://github.com/DeepReinforcementLearning/DeepReinforcementLearningInAction)"
   ]
  }
 ],
 "metadata": {
  "kernelspec": {
   "display_name": "Python 3 (ipykernel)",
   "language": "python",
   "name": "python3"
  },
  "language_info": {
   "codemirror_mode": {
    "name": "ipython",
    "version": 3
   },
   "file_extension": ".py",
   "mimetype": "text/x-python",
   "name": "python",
   "nbconvert_exporter": "python",
   "pygments_lexer": "ipython3",
   "version": "3.9.5"
  }
 },
 "nbformat": 4,
 "nbformat_minor": 5
}
