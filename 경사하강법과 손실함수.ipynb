{
 "cells": [
  {
   "cell_type": "markdown",
   "id": "1a3cc59f",
   "metadata": {},
   "source": [
    "## 경사하강법과 손실함수\n",
    "\n",
    "### Cross Entropy\n",
    "하나의 변수가 가질 수 있는 서로 다른 분포(p, q)를 가질 경우 해당 분포들의 차이를 의미"
   ]
  },
  {
   "cell_type": "code",
   "execution_count": 2,
   "id": "44649b35",
   "metadata": {},
   "outputs": [
    {
     "name": "stdout",
     "output_type": "stream",
     "text": [
      "0.35667494393873245\n"
     ]
    }
   ],
   "source": [
    "import numpy as np\n",
    "\n",
    "def crossEntropyError(s, l):\n",
    "    return -np.sum(l * np.log(s))\n",
    "\n",
    "s = np.array([0.7, 0.2, 0.1])\n",
    "l = np.array([1, 0, 0])\n",
    "\n",
    "ce = crossEntropyError(s, l)\n",
    "print(ce)"
   ]
  },
  {
   "cell_type": "markdown",
   "id": "b81eb050",
   "metadata": {},
   "source": [
    "cross entropy를 계산할때 log에 0이 전달되면 "
   ]
  },
  {
   "cell_type": "code",
   "execution_count": 3,
   "id": "cd70aac5",
   "metadata": {},
   "outputs": [
    {
     "name": "stdout",
     "output_type": "stream",
     "text": [
      "nan\n"
     ]
    },
    {
     "name": "stderr",
     "output_type": "stream",
     "text": [
      "C:\\Users\\csjty\\AppData\\Local\\Temp\\ipykernel_27292\\2263781040.py:4: RuntimeWarning: divide by zero encountered in log\n",
      "  return -np.sum(l * np.log(s))\n",
      "C:\\Users\\csjty\\AppData\\Local\\Temp\\ipykernel_27292\\2263781040.py:4: RuntimeWarning: invalid value encountered in multiply\n",
      "  return -np.sum(l * np.log(s))\n"
     ]
    }
   ],
   "source": [
    "s = np.array([0, 1, 0])\n",
    "l = np.array([1, 0, 0])\n",
    "ce = crossEntropyError(s, l)\n",
    "print(ce)"
   ]
  },
  {
   "cell_type": "markdown",
   "id": "af65feda",
   "metadata": {},
   "source": [
    "따라서 이것을 제어할 delta 변수를 설정해야한다. 아주 작은 값을 추가해 실행하면 오류가 발생하지 않는다."
   ]
  },
  {
   "cell_type": "code",
   "execution_count": 4,
   "id": "10182524",
   "metadata": {},
   "outputs": [
    {
     "ename": "NameError",
     "evalue": "name 'delta' is not defined",
     "output_type": "error",
     "traceback": [
      "\u001b[1;31m---------------------------------------------------------------------------\u001b[0m",
      "\u001b[1;31mNameError\u001b[0m                                 Traceback (most recent call last)",
      "Cell \u001b[1;32mIn [4], line 7\u001b[0m\n\u001b[0;32m      4\u001b[0m s \u001b[38;5;241m=\u001b[39m np\u001b[38;5;241m.\u001b[39marray([\u001b[38;5;241m0.7\u001b[39m, \u001b[38;5;241m0.2\u001b[39m, \u001b[38;5;241m0.1\u001b[39m])\n\u001b[0;32m      5\u001b[0m l \u001b[38;5;241m=\u001b[39m np\u001b[38;5;241m.\u001b[39marray([\u001b[38;5;241m1\u001b[39m, \u001b[38;5;241m0\u001b[39m, \u001b[38;5;241m0\u001b[39m])\n\u001b[1;32m----> 7\u001b[0m ce \u001b[38;5;241m=\u001b[39m \u001b[43mcrossEntropyError\u001b[49m\u001b[43m(\u001b[49m\u001b[43ms\u001b[49m\u001b[43m,\u001b[49m\u001b[43m \u001b[49m\u001b[43ml\u001b[49m\u001b[43m)\u001b[49m\n\u001b[0;32m      8\u001b[0m \u001b[38;5;28mprint\u001b[39m(ce)\n",
      "Cell \u001b[1;32mIn [4], line 2\u001b[0m, in \u001b[0;36mcrossEntropyError\u001b[1;34m(s, l)\u001b[0m\n\u001b[0;32m      1\u001b[0m \u001b[38;5;28;01mdef\u001b[39;00m \u001b[38;5;21mcrossEntropyError\u001b[39m(s, l):\n\u001b[1;32m----> 2\u001b[0m     \u001b[38;5;28;01mreturn\u001b[39;00m \u001b[38;5;241m-\u001b[39mnp\u001b[38;5;241m.\u001b[39msum(l \u001b[38;5;241m*\u001b[39m np\u001b[38;5;241m.\u001b[39mlog(s\u001b[38;5;241m+\u001b[39m\u001b[43mdelta\u001b[49m))\n",
      "\u001b[1;31mNameError\u001b[0m: name 'delta' is not defined"
     ]
    }
   ],
   "source": [
    "def crossEntropyError(s, l):\n",
    "    return -np.sum(l * np.log(s+delta))\n",
    "\n",
    "s = np.array([0.7, 0.2, 0.1])\n",
    "l = np.array([1, 0, 0])\n",
    "\n",
    "ce = crossEntropyError(s, l)\n",
    "print(ce)"
   ]
  }
 ],
 "metadata": {
  "kernelspec": {
   "display_name": "Python 3 (ipykernel)",
   "language": "python",
   "name": "python3"
  },
  "language_info": {
   "codemirror_mode": {
    "name": "ipython",
    "version": 3
   },
   "file_extension": ".py",
   "mimetype": "text/x-python",
   "name": "python",
   "nbconvert_exporter": "python",
   "pygments_lexer": "ipython3",
   "version": "3.9.5"
  }
 },
 "nbformat": 4,
 "nbformat_minor": 5
}
