{
 "cells": [
  {
   "cell_type": "markdown",
   "id": "295e22a6",
   "metadata": {},
   "source": [
    "## 역전파\n",
    "역전파를 수행하면 최종적으로 나온 오류를 다시 뒤로 전달해야 한다. 그 과정을 코드로 나타내보자."
   ]
  },
  {
   "cell_type": "code",
   "execution_count": 3,
   "id": "164ebec9",
   "metadata": {},
   "outputs": [
    {
     "name": "stdout",
     "output_type": "stream",
     "text": [
      "pred_y: 0.7310585786300049\n",
      "error: 0.2689414213699951\n",
      "output_error_term: 0.052877092784266715\n",
      "hidden_error_term: 0.00027959869413159513\n",
      "del_w_output: 0.019328126146476457\n",
      "del_w_hidden: [1.39799347e-05 4.19398041e-05]\n",
      "l2_weights: 0.08067187385352355\n",
      "l1_weights: [ 0.39998602 -0.20004194]\n",
      "\n"
     ]
    }
   ],
   "source": [
    "import numpy as np\n",
    "\n",
    "# 시그모이드\n",
    "def sigmoid(x):\n",
    "    return 1/(1+np.exp(-1))\n",
    "\n",
    "\n",
    "# 시그모이드 기울기\n",
    "def sigmoid_prime(x):\n",
    "    return sigmoid(x) * (1-sigmoid(x))\n",
    "\n",
    "# 입력값과 레이블, 변수를 정의한다.\n",
    "input1 = np.array([0.1, 0.3])\n",
    "weights = np.array([0.4, -0.2])\n",
    "hidden_weights = 0.1\n",
    "true_y = 1\n",
    "\n",
    "# 포워드 패스\n",
    "l1 = sigmoid(np.dot(input1, weights))\n",
    "l2 = sigmoid(np.dot(l1, hidden_weights))\n",
    "pred_y = l2\n",
    "\n",
    "# 오차와 에러텀 계산\n",
    "error = abs(true_y - l2)\n",
    "output_error_term = error * sigmoid_prime(np.dot(l1, hidden_weights))\n",
    "hidden_error_term = error * output_error_term * hidden_weights * sigmoid_prime(np.dot(input1, weights))\n",
    "\n",
    "# 업데이트할 w를 계산\n",
    "learning_rate = 0.5\n",
    "del_w_output = learning_rate * output_error_term * l1 # 출력층에서는 l1의 결과값이 입력값이 된다.\n",
    "del_w_hidden = learning_rate * hidden_error_term * input1\n",
    "\n",
    "# 업데이트 수행\n",
    "hidden_weights -= del_w_output\n",
    "weights -= del_w_hidden\n",
    "\n",
    "print(f'''\\\n",
    "pred_y: {l2}\n",
    "error: {error}\n",
    "output_error_term: {output_error_term}\n",
    "hidden_error_term: {hidden_error_term}\n",
    "del_w_output: {del_w_output}\n",
    "del_w_hidden: {del_w_hidden}\n",
    "l2_weights: {hidden_weights}\n",
    "l1_weights: {weights}\n",
    "''')"
   ]
  },
  {
   "cell_type": "markdown",
   "id": "0bfc7f63",
   "metadata": {},
   "source": [
    "## 넘파이를 활용한 딥러닝 네트워크 구현"
   ]
  },
  {
   "cell_type": "code",
   "execution_count": null,
   "id": "cce27990",
   "metadata": {},
   "outputs": [],
   "source": [
    "import numpy as np\n",
    "import tensorflow as tf\n",
    "import matplotlib.pyplot as plt\n",
    "from sklearn.preprocessing import OneHotEncoding\n",
    "\n",
    "mnist = tf.keras.datasets.mnist\n",
    "(x_train, t_train), (x_test, t_test) = mnist.load_data()\n",
    "\n",
    "# 성능이슈로 sigmoid가 아닌 relu 함수를 "
   ]
  },
  {
   "cell_type": "markdown",
   "id": "022b9c97",
   "metadata": {},
   "source": [
    "## Reference\n",
    "- [가중치 초기화](https://wooono.tistory.com/223)"
   ]
  }
 ],
 "metadata": {
  "kernelspec": {
   "display_name": "Python 3 (ipykernel)",
   "language": "python",
   "name": "python3"
  },
  "language_info": {
   "codemirror_mode": {
    "name": "ipython",
    "version": 3
   },
   "file_extension": ".py",
   "mimetype": "text/x-python",
   "name": "python",
   "nbconvert_exporter": "python",
   "pygments_lexer": "ipython3",
   "version": "3.9.5"
  }
 },
 "nbformat": 4,
 "nbformat_minor": 5
}
